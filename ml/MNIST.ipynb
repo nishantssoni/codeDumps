{
 "cells": [
  {
   "cell_type": "code",
   "execution_count": 1,
   "id": "056ed63c-99f0-46c9-a75f-05ef3520ca62",
   "metadata": {},
   "outputs": [
    {
     "name": "stdout",
     "output_type": "stream",
     "text": [
      "MNISH\n"
     ]
    }
   ],
   "source": [
    "print(\"MNISH\")"
   ]
  },
  {
   "cell_type": "code",
   "execution_count": null,
   "id": "431e82c5-0ddc-429e-9847-e180faaef9d0",
   "metadata": {},
   "outputs": [],
   "source": []
  }
 ],
 "metadata": {
  "kernelspec": {
   "display_name": "Python 3 (ipykernel)",
   "language": "python",
   "name": "python3"
  },
  "language_info": {
   "codemirror_mode": {
    "name": "ipython",
    "version": 3
   },
   "file_extension": ".py",
   "mimetype": "text/x-python",
   "name": "python",
   "nbconvert_exporter": "python",
   "pygments_lexer": "ipython3",
   "version": "3.11.7"
  }
 },
 "nbformat": 4,
 "nbformat_minor": 5
}
