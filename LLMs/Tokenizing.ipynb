{
 "cells": [
  {
   "cell_type": "code",
   "execution_count": 2,
   "id": "aa8f5a04-7a0c-4e91-8490-67816fa2ce7e",
   "metadata": {},
   "outputs": [],
   "source": [
    "import re"
   ]
  },
  {
   "cell_type": "code",
   "execution_count": 1,
   "id": "70730e47-fefc-4b27-9f4b-776c27899d65",
   "metadata": {},
   "outputs": [
    {
     "name": "stdout",
     "output_type": "stream",
     "text": [
      "total number of character :  20479\n",
      "I HAD always thought Jack Gisburn rather a cheap genius--though a good fellow enough--so it was no great surprise to me to hear that, in the height of\n"
     ]
    }
   ],
   "source": [
    "with open(\"the-verdict.txt\", \"r\", encoding=\"utf-8\") as f:\n",
    "    raw = f.read()\n",
    "\n",
    "print(\"total number of character : \", len(raw))\n",
    "print(raw[:150])"
   ]
  },
  {
   "cell_type": "code",
   "execution_count": 28,
   "id": "e2643258-572a-4205-abc3-5d3843ddd7d4",
   "metadata": {},
   "outputs": [],
   "source": [
    "def get_token(text):\n",
    "    text = re.split(r'([,.:;?)_!\"()\\']|--|\\s)',text) #seperate punctuation and fullstop also\n",
    "    # removing whitespace in the list\n",
    "    # if item.strip() come across white space it removes it and the if state became false and that is not included\n",
    "    text = [item for item in text if item.strip()]\n",
    "    return text"
   ]
  },
  {
   "cell_type": "code",
   "execution_count": 27,
   "id": "5a7c61c2-cf1a-4b9c-9f2d-bad8ab1b6fbe",
   "metadata": {},
   "outputs": [
    {
     "name": "stdout",
     "output_type": "stream",
     "text": [
      "['Hello', ',', 'world', '.', 'Is', 'this', '--', 'a', 'test', '?']\n"
     ]
    }
   ],
   "source": [
    "txt = print(\"Hello, world. Is this-- a test?\"\n",
    "\n",
    "print(re_txt)\n",
    "print(result)"
   ]
  },
  {
   "cell_type": "code",
   "execution_count": null,
   "id": "ddbdb923-3038-4ba6-a1ff-1b5276281322",
   "metadata": {},
   "outputs": [],
   "source": []
  },
  {
   "cell_type": "code",
   "execution_count": null,
   "id": "6a5717bc-7fb0-4279-a104-17809d760c1e",
   "metadata": {},
   "outputs": [],
   "source": []
  }
 ],
 "metadata": {
  "kernelspec": {
   "display_name": "Python 3 (ipykernel)",
   "language": "python",
   "name": "python3"
  },
  "language_info": {
   "codemirror_mode": {
    "name": "ipython",
    "version": 3
   },
   "file_extension": ".py",
   "mimetype": "text/x-python",
   "name": "python",
   "nbconvert_exporter": "python",
   "pygments_lexer": "ipython3",
   "version": "3.11.7"
  }
 },
 "nbformat": 4,
 "nbformat_minor": 5
}
