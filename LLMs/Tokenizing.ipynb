{
 "cells": [
  {
   "cell_type": "markdown",
   "id": "7336c37e-98b0-43b3-92f2-8c232b28914b",
   "metadata": {},
   "source": [
    "## loading files"
   ]
  },
  {
   "cell_type": "code",
   "execution_count": 63,
   "id": "70730e47-fefc-4b27-9f4b-776c27899d65",
   "metadata": {},
   "outputs": [
    {
     "name": "stdout",
     "output_type": "stream",
     "text": [
      "total number of character :  20479\n",
      "I HAD always thought Jack Gisburn rather a cheap genius--though a good fellow enough--so it was no great surprise to me to hear that, in the height of\n"
     ]
    }
   ],
   "source": [
    "import re\n",
    "with open(\"the-verdict.txt\", \"r\", encoding=\"utf-8\") as f:\n",
    "    raw = f.read()\n",
    "\n",
    "print(\"total number of character : \", len(raw))\n",
    "print(raw[:150])"
   ]
  },
  {
   "cell_type": "markdown",
   "id": "745fbf68-1beb-4a03-842d-e865ebb58a07",
   "metadata": {},
   "source": [
    "## converting into tokens"
   ]
  },
  {
   "cell_type": "code",
   "execution_count": 38,
   "id": "e2643258-572a-4205-abc3-5d3843ddd7d4",
   "metadata": {},
   "outputs": [
    {
     "name": "stdout",
     "output_type": "stream",
     "text": [
      "['Hello', ',', 'world', '.', 'Is', 'this', '--', 'a', 'test', '?']\n"
     ]
    }
   ],
   "source": [
    "def get_token(text):\n",
    "    \"\"\"\n",
    "    it converts raw utf-8 file to a list of words with sperate punctuation and spacial character\n",
    "    and also it removes whitespace\n",
    "    \"\"\"\n",
    "    text = re.split(r'([,.?_!\"()\\']|--|\\s)', text)\n",
    "    # removing whitespace in the list\n",
    "    # if item.strip() come across white space it removes it and the if state became false and that is not included\n",
    "    text = [item for item in text if item.strip()]\n",
    "    return text\n",
    "\n",
    "print(get_token(\"Hello, world. Is this-- a test?\"))"
   ]
  },
  {
   "cell_type": "code",
   "execution_count": 39,
   "id": "5a7c61c2-cf1a-4b9c-9f2d-bad8ab1b6fbe",
   "metadata": {},
   "outputs": [
    {
     "name": "stdout",
     "output_type": "stream",
     "text": [
      "4649\n",
      "['I', 'HAD', 'always', 'thought', 'Jack', 'Gisburn', 'rather', 'a', 'cheap', 'genius', '--', 'though', 'a', 'good', 'fellow', 'enough', '--', 'so', 'it', 'was']\n"
     ]
    }
   ],
   "source": [
    "pre = get_token(raw)\n",
    "# number of token without whitespace\n",
    "print(len(pre))\n",
    "print(pre[:20])"
   ]
  },
  {
   "cell_type": "markdown",
   "id": "38c91840-dd9a-427a-aaac-3a5a6734e6e1",
   "metadata": {},
   "source": [
    "## converting tokens into token IDs"
   ]
  },
  {
   "cell_type": "code",
   "execution_count": 57,
   "id": "70a259bb-20f2-47f8-bd4c-9936dcbdf790",
   "metadata": {},
   "outputs": [],
   "source": [
    "def token_to_ids(pre_text):\n",
    "    all_words = sorted(list(set(pre_text)))\n",
    "    vocab_size = len(all_words)\n",
    "\n",
    "    vocabs = {token:integer for integer,token in enumerate(all_words)}\n",
    "    return vocabs"
   ]
  },
  {
   "cell_type": "code",
   "execution_count": 93,
   "id": "b2bc5bc0-ccc1-41ee-a4b0-72e5afc060a5",
   "metadata": {},
   "outputs": [
    {
     "name": "stdout",
     "output_type": "stream",
     "text": [
      "1159\n"
     ]
    },
    {
     "data": {
      "text/plain": [
       "0"
      ]
     },
     "execution_count": 93,
     "metadata": {},
     "output_type": "execute_result"
    }
   ],
   "source": [
    "vocabs = token_to_ids(pre)\n",
    "vocab_size = len(vocabs)\n",
    "print(vocab_size)\n",
    "\n",
    "len(dict())"
   ]
  },
  {
   "cell_type": "code",
   "execution_count": 52,
   "id": "ea5d4f99-4a65-45de-ae6c-67a87d66e9be",
   "metadata": {},
   "outputs": [
    {
     "name": "stdout",
     "output_type": "stream",
     "text": [
      "('!', 0)\n",
      "('\"', 1)\n",
      "(\"'\", 2)\n",
      "('(', 3)\n",
      "(')', 4)\n",
      "(',', 5)\n",
      "('--', 6)\n"
     ]
    }
   ],
   "source": [
    "for i,j in enumerate(vocabs.items()):\n",
    "    print(j)\n",
    "    if i>5: break"
   ]
  },
  {
   "cell_type": "markdown",
   "id": "89e7a731-a6aa-4b3d-9c92-dda8432e95d6",
   "metadata": {},
   "source": [
    "# full tokenizer class"
   ]
  },
  {
   "cell_type": "code",
   "execution_count": 112,
   "id": "2428a3db-0119-43ea-bee9-8ee3fdcaf66d",
   "metadata": {},
   "outputs": [],
   "source": [
    "import re\n",
    "\n",
    "class Tokenizer_v1:\n",
    "    def __init__(self):\n",
    "        # Initialize empty raw text and two dictionaries for string-to-integer \n",
    "        # and integer-to-string mappings\n",
    "        self.raw = ''\n",
    "        self.str_to_int = dict() \n",
    "        self.int_to_str = dict()  \n",
    "\n",
    "    def get_token(self, text):\n",
    "        \"\"\"\n",
    "        Converts raw text to a list of tokens, splitting words from punctuation and special characters.\n",
    "        It also removes any whitespace from the resulting list of tokens.\n",
    "        \"\"\"\n",
    "        # Split text into tokens based on punctuation, special characters, and spaces\n",
    "        text = re.split(r'([,.?_!\"()\\']|--|\\s)', text)\n",
    "        \n",
    "        # Remove empty strings or strings containing only whitespace from the list\n",
    "        text = [item for item in text if item.strip()]\n",
    "        return text\n",
    "\n",
    "    def token_to_ids(self, pre_text):\n",
    "        \"\"\"\n",
    "        Creates a vocabulary of unique tokens from the pre-processed text and assigns each token a unique integer ID.\n",
    "        \"\"\"\n",
    "        # Create a sorted list of unique words (tokens) from the pre-processed text\n",
    "        all_words = sorted(list(set(pre_text)))\n",
    "        vocab_size = len(all_words)\n",
    "    \n",
    "        # Create a dictionary mapping each token to a unique integer ID\n",
    "        vocabs = {token: integer for integer, token in enumerate(all_words)}\n",
    "        return vocabs\n",
    "        \n",
    "    def make_vocab(self, text):\n",
    "        \"\"\"\n",
    "        Generates the vocabulary from the raw text, and populates the str_to_int and int_to_str dictionaries.\n",
    "        \"\"\"\n",
    "        # Store the raw text\n",
    "        self.raw = text\n",
    "        \n",
    "        # Tokenize the text\n",
    "        txt = self.get_token(text)\n",
    "        \n",
    "        # Create a vocabulary mapping tokens to IDs\n",
    "        vocabs = self.token_to_ids(txt)\n",
    "\n",
    "        # Update the dictionaries with token-to-ID and ID-to-token mappings\n",
    "        self.str_to_int = vocabs\n",
    "        self.int_to_str = {i: s for s, i in vocabs.items()}\n",
    "        \n",
    "        print(\"Vocabulary successfully created with\", len(self.str_to_int), \"words\")\n",
    "\n",
    "    def encode(self, text):\n",
    "        \"\"\"\n",
    "        Converts a text string into a list of integer IDs using the str_to_int dictionary.\n",
    "        \"\"\"\n",
    "        # Tokenize the text\n",
    "        text = self.get_token(text)\n",
    "        \n",
    "        # Convert each token into its corresponding ID\n",
    "        ids = [self.str_to_int[s] for s in text]\n",
    "        return ids\n",
    "\n",
    "    def decode(self, ids):\n",
    "        \"\"\"\n",
    "        Converts a list of integer IDs back into a text string using the int_to_str dictionary.\n",
    "        \"\"\"\n",
    "        # Convert each ID back into its corresponding token\n",
    "        text = \" \".join([self.int_to_str[i] for i in ids])\n",
    "        \n",
    "        # Remove unnecessary spaces before punctuation marks\n",
    "        text = re.sub(r'\\s+([,.?!\"()\\'])', r'\\1', text)\n",
    "        return text\n"
   ]
  },
  {
   "cell_type": "code",
   "execution_count": 113,
   "id": "6b00a680-dabb-417c-9224-1cffc7c0d1db",
   "metadata": {},
   "outputs": [
    {
     "name": "stdout",
     "output_type": "stream",
     "text": [
      "Vocabulary successfully created with 1159 words\n"
     ]
    }
   ],
   "source": [
    "tokenizer = Tokenizer_v1()\n",
    "tokenizer.make_vocab(raw)"
   ]
  },
  {
   "cell_type": "code",
   "execution_count": 114,
   "id": "64f66dc4-1617-4cb8-9236-e4d4692bfbf5",
   "metadata": {},
   "outputs": [
    {
     "name": "stdout",
     "output_type": "stream",
     "text": [
      "[1, 58, 2, 872, 1013, 615, 541, 763, 5, 1155, 608, 5, 1, 69, 7, 39, 873, 1136]\n",
      "\" It' s the last he painted, you know,\" Mrs. Gisburn said with\n"
     ]
    }
   ],
   "source": [
    "text = \"\"\"\"It's the last he painted, you know,\" Mrs. Gisburn said with\"\"\"\n",
    "ids = tokenizer.encode(text)\n",
    "print(ids)\n",
    "print(tokenizer.decode(ids))"
   ]
  },
  {
   "cell_type": "code",
   "execution_count": 111,
   "id": "7b596b35-3364-48ff-b3b0-0979608251ce",
   "metadata": {},
   "outputs": [
    {
     "ename": "KeyError",
     "evalue": "'Hello'",
     "output_type": "error",
     "traceback": [
      "\u001b[1;31m---------------------------------------------------------------------------\u001b[0m",
      "\u001b[1;31mKeyError\u001b[0m                                  Traceback (most recent call last)",
      "Cell \u001b[1;32mIn[111], line 2\u001b[0m\n\u001b[0;32m      1\u001b[0m text \u001b[38;5;241m=\u001b[39m \u001b[38;5;124m\"\u001b[39m\u001b[38;5;124mHello, do you like tea?\u001b[39m\u001b[38;5;124m\"\u001b[39m\n\u001b[1;32m----> 2\u001b[0m ids \u001b[38;5;241m=\u001b[39m tokenizer\u001b[38;5;241m.\u001b[39mencode(text)\n\u001b[0;32m      3\u001b[0m \u001b[38;5;28mprint\u001b[39m(ids)\n\u001b[0;32m      4\u001b[0m \u001b[38;5;28mprint\u001b[39m(tokenizer\u001b[38;5;241m.\u001b[39mdecode(ids))\n",
      "Cell \u001b[1;32mIn[107], line 37\u001b[0m, in \u001b[0;36mTokenizer_v1.encode\u001b[1;34m(self, text)\u001b[0m\n\u001b[0;32m     35\u001b[0m \u001b[38;5;28;01mdef\u001b[39;00m \u001b[38;5;21mencode\u001b[39m(\u001b[38;5;28mself\u001b[39m,text):\n\u001b[0;32m     36\u001b[0m     text \u001b[38;5;241m=\u001b[39m \u001b[38;5;28mself\u001b[39m\u001b[38;5;241m.\u001b[39mget_token(text)\n\u001b[1;32m---> 37\u001b[0m     ids \u001b[38;5;241m=\u001b[39m [\u001b[38;5;28mself\u001b[39m\u001b[38;5;241m.\u001b[39mstr_to_int[s] \u001b[38;5;28;01mfor\u001b[39;00m s \u001b[38;5;129;01min\u001b[39;00m text]\n\u001b[0;32m     38\u001b[0m     \u001b[38;5;28;01mreturn\u001b[39;00m ids\n",
      "Cell \u001b[1;32mIn[107], line 37\u001b[0m, in \u001b[0;36m<listcomp>\u001b[1;34m(.0)\u001b[0m\n\u001b[0;32m     35\u001b[0m \u001b[38;5;28;01mdef\u001b[39;00m \u001b[38;5;21mencode\u001b[39m(\u001b[38;5;28mself\u001b[39m,text):\n\u001b[0;32m     36\u001b[0m     text \u001b[38;5;241m=\u001b[39m \u001b[38;5;28mself\u001b[39m\u001b[38;5;241m.\u001b[39mget_token(text)\n\u001b[1;32m---> 37\u001b[0m     ids \u001b[38;5;241m=\u001b[39m [\u001b[38;5;28mself\u001b[39m\u001b[38;5;241m.\u001b[39mstr_to_int[s] \u001b[38;5;28;01mfor\u001b[39;00m s \u001b[38;5;129;01min\u001b[39;00m text]\n\u001b[0;32m     38\u001b[0m     \u001b[38;5;28;01mreturn\u001b[39;00m ids\n",
      "\u001b[1;31mKeyError\u001b[0m: 'Hello'"
     ]
    }
   ],
   "source": [
    "text = \"Hello, do you like tea?\"\n",
    "ids = tokenizer.encode(text)\n",
    "print(ids)\n",
    "print(tokenizer.decode(ids))"
   ]
  },
  {
   "cell_type": "code",
   "execution_count": null,
   "id": "4c1f95f3-5198-44eb-be8b-e10b0deda564",
   "metadata": {},
   "outputs": [],
   "source": []
  }
 ],
 "metadata": {
  "kernelspec": {
   "display_name": "Python 3 (ipykernel)",
   "language": "python",
   "name": "python3"
  },
  "language_info": {
   "codemirror_mode": {
    "name": "ipython",
    "version": 3
   },
   "file_extension": ".py",
   "mimetype": "text/x-python",
   "name": "python",
   "nbconvert_exporter": "python",
   "pygments_lexer": "ipython3",
   "version": "3.11.7"
  }
 },
 "nbformat": 4,
 "nbformat_minor": 5
}
