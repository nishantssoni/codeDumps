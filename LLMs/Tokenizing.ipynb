{
 "cells": [
  {
   "cell_type": "markdown",
   "id": "7336c37e-98b0-43b3-92f2-8c232b28914b",
   "metadata": {},
   "source": [
    "## loading files"
   ]
  },
  {
   "cell_type": "code",
   "execution_count": 63,
   "id": "70730e47-fefc-4b27-9f4b-776c27899d65",
   "metadata": {},
   "outputs": [
    {
     "name": "stdout",
     "output_type": "stream",
     "text": [
      "total number of character :  20479\n",
      "I HAD always thought Jack Gisburn rather a cheap genius--though a good fellow enough--so it was no great surprise to me to hear that, in the height of\n"
     ]
    }
   ],
   "source": [
    "import re\n",
    "with open(\"the-verdict.txt\", \"r\", encoding=\"utf-8\") as f:\n",
    "    raw = f.read()\n",
    "\n",
    "print(\"total number of character : \", len(raw))\n",
    "print(raw[:150])"
   ]
  },
  {
   "cell_type": "markdown",
   "id": "745fbf68-1beb-4a03-842d-e865ebb58a07",
   "metadata": {},
   "source": [
    "## converting into tokens"
   ]
  },
  {
   "cell_type": "code",
   "execution_count": 38,
   "id": "e2643258-572a-4205-abc3-5d3843ddd7d4",
   "metadata": {},
   "outputs": [
    {
     "name": "stdout",
     "output_type": "stream",
     "text": [
      "['Hello', ',', 'world', '.', 'Is', 'this', '--', 'a', 'test', '?']\n"
     ]
    }
   ],
   "source": [
    "def get_token(text):\n",
    "    \"\"\"\n",
    "    it converts raw utf-8 file to a list of words with sperate punctuation and spacial character\n",
    "    and also it removes whitespace\n",
    "    \"\"\"\n",
    "    text = re.split(r'([,.?_!\"()\\']|--|\\s)', text)\n",
    "    # removing whitespace in the list\n",
    "    # if item.strip() come across white space it removes it and the if state became false and that is not included\n",
    "    text = [item for item in text if item.strip()]\n",
    "    return text\n",
    "\n",
    "print(get_token(\"Hello, world. Is this-- a test?\"))"
   ]
  },
  {
   "cell_type": "code",
   "execution_count": 39,
   "id": "5a7c61c2-cf1a-4b9c-9f2d-bad8ab1b6fbe",
   "metadata": {},
   "outputs": [
    {
     "name": "stdout",
     "output_type": "stream",
     "text": [
      "4649\n",
      "['I', 'HAD', 'always', 'thought', 'Jack', 'Gisburn', 'rather', 'a', 'cheap', 'genius', '--', 'though', 'a', 'good', 'fellow', 'enough', '--', 'so', 'it', 'was']\n"
     ]
    }
   ],
   "source": [
    "pre = get_token(raw)\n",
    "# number of token without whitespace\n",
    "print(len(pre))\n",
    "print(pre[:20])"
   ]
  },
  {
   "cell_type": "markdown",
   "id": "38c91840-dd9a-427a-aaac-3a5a6734e6e1",
   "metadata": {},
   "source": [
    "## converting tokens into token IDs"
   ]
  },
  {
   "cell_type": "code",
   "execution_count": 57,
   "id": "70a259bb-20f2-47f8-bd4c-9936dcbdf790",
   "metadata": {},
   "outputs": [],
   "source": [
    "def token_to_ids(pre_text):\n",
    "    all_words = sorted(list(set(pre_text)))\n",
    "    vocab_size = len(all_words)\n",
    "\n",
    "    vocabs = {token:integer for integer,token in enumerate(all_words)}\n",
    "    return vocabs"
   ]
  },
  {
   "cell_type": "code",
   "execution_count": 93,
   "id": "b2bc5bc0-ccc1-41ee-a4b0-72e5afc060a5",
   "metadata": {},
   "outputs": [
    {
     "name": "stdout",
     "output_type": "stream",
     "text": [
      "1159\n"
     ]
    },
    {
     "data": {
      "text/plain": [
       "0"
      ]
     },
     "execution_count": 93,
     "metadata": {},
     "output_type": "execute_result"
    }
   ],
   "source": [
    "vocabs = token_to_ids(pre)\n",
    "vocab_size = len(vocabs)\n",
    "print(vocab_size)\n",
    "\n",
    "len(dict())"
   ]
  },
  {
   "cell_type": "code",
   "execution_count": 52,
   "id": "ea5d4f99-4a65-45de-ae6c-67a87d66e9be",
   "metadata": {},
   "outputs": [
    {
     "name": "stdout",
     "output_type": "stream",
     "text": [
      "('!', 0)\n",
      "('\"', 1)\n",
      "(\"'\", 2)\n",
      "('(', 3)\n",
      "(')', 4)\n",
      "(',', 5)\n",
      "('--', 6)\n"
     ]
    }
   ],
   "source": [
    "for i,j in enumerate(vocabs.items()):\n",
    "    print(j)\n",
    "    if i>5: break"
   ]
  },
  {
   "cell_type": "markdown",
   "id": "89e7a731-a6aa-4b3d-9c92-dda8432e95d6",
   "metadata": {},
   "source": [
    "# full tokenizer class"
   ]
  },
  {
   "cell_type": "code",
   "execution_count": 107,
   "id": "e6dca46d-fb59-4b05-ba09-439482f35354",
   "metadata": {},
   "outputs": [],
   "source": [
    "class Tokenizer_v1:\n",
    "    def __init__(self):\n",
    "        self.raw = ''\n",
    "        self.str_to_int = dict()  #make_vocab(text)\n",
    "        self.int_to_str = dict()  #{i:s for s,i in self.str_to_int.items()}\n",
    "\n",
    "    def get_token(self,text):\n",
    "        \"\"\"\n",
    "        it converts raw utf-8 file to a list of words with sperate punctuation and spacial character\n",
    "        and also it removes whitespace\n",
    "        \"\"\"\n",
    "        text = re.split(r'([,.?_!\"()\\']|--|\\s)', text)\n",
    "        # removing whitespace in the list\n",
    "        # if item.strip() come across white space it removes it and the if state became false and that is not included\n",
    "        text = [item for item in text if item.strip()]\n",
    "        return text\n",
    "\n",
    "    def token_to_ids(self,pre_text):\n",
    "        all_words = sorted(list(set(pre_text)))\n",
    "        vocab_size = len(all_words)\n",
    "    \n",
    "        vocabs = {token:integer for integer,token in enumerate(all_words)}\n",
    "        return vocabs\n",
    "        \n",
    "    def make_vocab(self,text):\n",
    "        self.raw = text\n",
    "        \n",
    "        txt = get_token(text)\n",
    "        vocabs = token_to_ids(txt)\n",
    "\n",
    "        self.str_to_int = vocabs\n",
    "        self.int_to_str = {i:s for s,i in vocabs.items()}\n",
    "        print(\"vocab successfully created with \",len(self.str_to_int),\" words\");\n",
    "    \n",
    "    def encode(self,text):\n",
    "        text = self.get_token(text)\n",
    "        ids = [self.str_to_int[s] for s in text]\n",
    "        return ids\n",
    "    def decode(self,ids):\n",
    "        text = \" \".join([self.int_to_str[i] for i in ids])\n",
    "        text = re.sub(r'\\s+([,.?!\"()\\'])', r'\\1', text)\n",
    "        return text\n",
    "\n"
   ]
  },
  {
   "cell_type": "code",
   "execution_count": 108,
   "id": "6b00a680-dabb-417c-9224-1cffc7c0d1db",
   "metadata": {},
   "outputs": [
    {
     "name": "stdout",
     "output_type": "stream",
     "text": [
      "vocab successfully created with  1159  words\n"
     ]
    }
   ],
   "source": [
    "tokenizer = Tokenizer_v1()\n",
    "tokenizer.make_vocab(raw)"
   ]
  },
  {
   "cell_type": "code",
   "execution_count": 109,
   "id": "64f66dc4-1617-4cb8-9236-e4d4692bfbf5",
   "metadata": {},
   "outputs": [
    {
     "name": "stdout",
     "output_type": "stream",
     "text": [
      "[1, 58, 2, 872, 1013, 615, 541, 763, 5, 1155, 608, 5, 1, 69, 7, 39, 873, 1136]\n",
      "\" It' s the last he painted, you know,\" Mrs. Gisburn said with\n"
     ]
    }
   ],
   "source": [
    "text = \"\"\"\"It's the last he painted, you know,\" Mrs. Gisburn said with\"\"\"\n",
    "ids = tokenizer.encode(text)\n",
    "print(ids)\n",
    "\n",
    "print(tokenizer.decode(ids))"
   ]
  },
  {
   "cell_type": "code",
   "execution_count": null,
   "id": "7b596b35-3364-48ff-b3b0-0979608251ce",
   "metadata": {},
   "outputs": [],
   "source": []
  }
 ],
 "metadata": {
  "kernelspec": {
   "display_name": "Python 3 (ipykernel)",
   "language": "python",
   "name": "python3"
  },
  "language_info": {
   "codemirror_mode": {
    "name": "ipython",
    "version": 3
   },
   "file_extension": ".py",
   "mimetype": "text/x-python",
   "name": "python",
   "nbconvert_exporter": "python",
   "pygments_lexer": "ipython3",
   "version": "3.11.7"
  }
 },
 "nbformat": 4,
 "nbformat_minor": 5
}
