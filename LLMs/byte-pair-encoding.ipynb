{
 "cells": [
  {
   "cell_type": "markdown",
   "id": "e75d0bf5-5301-412e-acb4-4cff2f200438",
   "metadata": {
    "jp-MarkdownHeadingCollapsed": true
   },
   "source": [
    "# testing"
   ]
  },
  {
   "cell_type": "code",
   "execution_count": 76,
   "id": "d32ac7b7-b3fe-43e2-8da9-f781b91d3bd9",
   "metadata": {},
   "outputs": [],
   "source": [
    "# text from https://www.reedbeta.com/blog/programmers-intro-to-unicode/\n",
    "text = \"Ｕｎｉｃｏｄｅ! 🅤🅝🅘🅒🅞🅓🅔‽ 🇺‌🇳‌🇮‌🇨‌🇴‌🇩‌🇪! 😄 The very name strikes fear and awe into the hearts of programmers worldwide. We all know we ought to “support Unicode” in our software (whatever that means—like using wchar_t for all the strings, right?). But Unicode can be abstruse, and diving into the thousand-page Unicode Standard plus its dozens of supplementary annexes, reports, and notes can be more than a little intimidating. I don’t blame programmers for still finding the whole thing mysterious, even 30 years after Unicode’s inception.\"\n",
    "tokens = text.encode(\"utf-8\")\n",
    "tokens = list(map(int,tokens))\n",
    "# print(\"- - - -- - - - - - - - - - - - - - - - - - - -- - - \")\n",
    "# print(text)\n",
    "# print(\"length: \",len(text))\n",
    "# print(\"- - - -- - - - - - - - - - - - - - - - - - - -- - - \")\n",
    "# # print(tokens)\n",
    "# print(\"length: \",len(token))"
   ]
  },
  {
   "cell_type": "code",
   "execution_count": 77,
   "id": "359909cd-41b0-4caf-a54f-d0976754de6f",
   "metadata": {},
   "outputs": [
    {
     "name": "stdout",
     "output_type": "stream",
     "text": [
      "count the most common pair is  101 32  with count  20\n"
     ]
    }
   ],
   "source": [
    "# counting pairs initial code\n",
    "p_1 = p_2 = count = 0\n",
    "\n",
    "for i in range(len(tokens)-1):\n",
    "    f = tokens[i]\n",
    "    l = tokens[i+1]\n",
    "    c = 0\n",
    "    for j in range(len(tokens)-1):\n",
    "        if((tokens[j] == f ) and (tokens[j+1] == l)):\n",
    "            c += 1\n",
    "    if c > count:\n",
    "        p_1 = f\n",
    "        p_2 = l\n",
    "        count = c\n",
    "print(\"count the most common pair is \",p_1,p_2,\" with count \" , count)\n",
    "    "
   ]
  },
  {
   "cell_type": "code",
   "execution_count": 78,
   "id": "89b92d5b-4781-4157-b116-31d639fe7542",
   "metadata": {},
   "outputs": [],
   "source": [
    "# counting pair v2\n",
    "def get_counts(ids):\n",
    "    counts = dict()\n",
    "    for pair in zip(ids,ids[1:]):\n",
    "        counts[pair] = counts.get(pair,0) + 1\n",
    "    return counts\n",
    "\n",
    "stats = get_counts(tokens)\n",
    "\n",
    "# stats = sorted(((v,k) for k,v in stats.items()), reverse=True)\n",
    "# print(stats)"
   ]
  },
  {
   "cell_type": "markdown",
   "id": "c3a5fcdc-8e33-4f1c-b7e8-5eb8f41fa764",
   "metadata": {},
   "source": [
    "# final code"
   ]
  },
  {
   "cell_type": "code",
   "execution_count": 5,
   "id": "f8aea7cc-ff37-4f54-b5a5-91ca515bb980",
   "metadata": {},
   "outputs": [],
   "source": [
    "# text to token\n",
    "def getToken(text):\n",
    "    token = text.encode(\"utf-8\")\n",
    "    token = list(map(int,token))\n",
    "    return token"
   ]
  },
  {
   "cell_type": "code",
   "execution_count": 6,
   "id": "aa40d0d4-b5e4-43b5-b2f3-b69eb8a9f4ce",
   "metadata": {},
   "outputs": [],
   "source": [
    "# counting pair v2\n",
    "def get_counts(ids,format=False):\n",
    "    counts = dict()\n",
    "    for pair in zip(ids,ids[1:]):\n",
    "        counts[pair] = counts.get(pair,0) + 1\n",
    "    if format:\n",
    "        return sorted(((v,k) for k,v in counts.items()), reverse=True)\n",
    "    return counts"
   ]
  },
  {
   "cell_type": "code",
   "execution_count": 3,
   "id": "4ad30a03-3a18-4d26-9da4-25d61a8360c8",
   "metadata": {},
   "outputs": [],
   "source": [
    "# reading the text\n",
    "with open(\"the-verdict.txt\", \"r\", encoding=\"utf-8\") as f:\n",
    "    raw = f.read()\n",
    "\n",
    "# text from https://www.reedbeta.com/blog/programmers-intro-to-unicode/\n",
    "text = \"Ｕｎｉｃｏｄｅ! 🅤🅝🅘🅒🅞🅓🅔‽ 🇺‌🇳‌🇮‌🇨‌🇴‌🇩‌🇪! 😄 The very name strikes fear and awe into the hearts of programmers worldwide. We all know we ought to “support Unicode” in our software (whatever that means—like using wchar_t for all the strings, right?). But Unicode can be abstruse, and diving into the thousand-page Unicode Standard plus its dozens of supplementary annexes, reports, and notes can be more than a little intimidating. I don’t blame programmers for still finding the whole thing mysterious, even 30 years after Unicode’s inception.\""
   ]
  },
  {
   "cell_type": "code",
   "execution_count": 4,
   "id": "ad69b83b-eacd-467e-a58f-2697af58b954",
   "metadata": {},
   "outputs": [
    {
     "ename": "NameError",
     "evalue": "name 'raw_token' is not defined",
     "output_type": "error",
     "traceback": [
      "\u001b[1;31m---------------------------------------------------------------------------\u001b[0m",
      "\u001b[1;31mNameError\u001b[0m                                 Traceback (most recent call last)",
      "Cell \u001b[1;32mIn[4], line 1\u001b[0m\n\u001b[1;32m----> 1\u001b[0m tokens \u001b[38;5;241m=\u001b[39m getToken(text)\n\u001b[0;32m      2\u001b[0m stats \u001b[38;5;241m=\u001b[39m get_counts(tokens)\n",
      "Cell \u001b[1;32mIn[1], line 4\u001b[0m, in \u001b[0;36mgetToken\u001b[1;34m(text)\u001b[0m\n\u001b[0;32m      2\u001b[0m \u001b[38;5;28;01mdef\u001b[39;00m \u001b[38;5;21mgetToken\u001b[39m(text):\n\u001b[0;32m      3\u001b[0m     token \u001b[38;5;241m=\u001b[39m text\u001b[38;5;241m.\u001b[39mencode(\u001b[38;5;124m\"\u001b[39m\u001b[38;5;124mutf-8\u001b[39m\u001b[38;5;124m\"\u001b[39m)\n\u001b[1;32m----> 4\u001b[0m     token \u001b[38;5;241m=\u001b[39m \u001b[38;5;28mlist\u001b[39m(\u001b[38;5;28mmap\u001b[39m(\u001b[38;5;28mint\u001b[39m,raw_token))\n\u001b[0;32m      5\u001b[0m     \u001b[38;5;28;01mreturn\u001b[39;00m token\n",
      "\u001b[1;31mNameError\u001b[0m: name 'raw_token' is not defined"
     ]
    }
   ],
   "source": [
    "tokens = getToken(text)\n",
    "stats = get_counts(tokens)\n",
    "# count_pairs = get_counts(tokens,format=True)\n",
    "# print(count_pairs)"
   ]
  },
  {
   "cell_type": "code",
   "execution_count": 92,
   "id": "fd02ae80-bf30-4490-94cf-9081425245c8",
   "metadata": {},
   "outputs": [
    {
     "data": {
      "text/plain": [
       "(101, 32)"
      ]
     },
     "execution_count": 92,
     "metadata": {},
     "output_type": "execute_result"
    }
   ],
   "source": [
    "# finding the key with the heighest value\n",
    "max(stats, key = stats.get)"
   ]
  },
  {
   "cell_type": "code",
   "execution_count": 99,
   "id": "c8cd54ac-aaf8-479c-85c8-21ffd833d779",
   "metadata": {},
   "outputs": [
    {
     "data": {
      "text/plain": [
       "614"
      ]
     },
     "execution_count": 99,
     "metadata": {},
     "output_type": "execute_result"
    }
   ],
   "source": [
    "# text from https://www.reedbeta.com/blog/programmers-intro-to-unicode/\n",
    "text = \"Ｕｎｉｃｏｄｅ! 🅤🅝🅘🅒🅞🅓🅔‽ 🇺‌🇳‌🇮‌🇨‌🇴‌🇩‌🇪! 😄 The very name strikes fear and awe into the hearts of programmers worldwide. We all know we ought to “support Unicode” in our software (whatever that means—like using wchar_t for all the strings, right?). But Unicode can be abstruse, and diving into the thousand-page Unicode Standard plus its dozens of supplementary annexes, reports, and notes can be more than a little intimidating. I don’t blame programmers for still finding the whole thing mysterious, even 30 years after Unicode’s inception.\"\n",
    "to"
   ]
  },
  {
   "cell_type": "code",
   "execution_count": null,
   "id": "19114692-6ca0-46ca-9d80-bdbdbdb0cc14",
   "metadata": {},
   "outputs": [],
   "source": []
  }
 ],
 "metadata": {
  "kernelspec": {
   "display_name": "Python 3 (ipykernel)",
   "language": "python",
   "name": "python3"
  },
  "language_info": {
   "codemirror_mode": {
    "name": "ipython",
    "version": 3
   },
   "file_extension": ".py",
   "mimetype": "text/x-python",
   "name": "python",
   "nbconvert_exporter": "python",
   "pygments_lexer": "ipython3",
   "version": "3.11.7"
  }
 },
 "nbformat": 4,
 "nbformat_minor": 5
}
