{
 "cells": [
  {
   "cell_type": "markdown",
   "id": "e75d0bf5-5301-412e-acb4-4cff2f200438",
   "metadata": {
    "jp-MarkdownHeadingCollapsed": true
   },
   "source": [
    "# testing"
   ]
  },
  {
   "cell_type": "code",
   "execution_count": 76,
   "id": "d32ac7b7-b3fe-43e2-8da9-f781b91d3bd9",
   "metadata": {},
   "outputs": [],
   "source": [
    "# text from https://www.reedbeta.com/blog/programmers-intro-to-unicode/\n",
    "text = \"Ｕｎｉｃｏｄｅ! 🅤🅝🅘🅒🅞🅓🅔‽ 🇺‌🇳‌🇮‌🇨‌🇴‌🇩‌🇪! 😄 The very name strikes fear and awe into the hearts of programmers worldwide. We all know we ought to “support Unicode” in our software (whatever that means—like using wchar_t for all the strings, right?). But Unicode can be abstruse, and diving into the thousand-page Unicode Standard plus its dozens of supplementary annexes, reports, and notes can be more than a little intimidating. I don’t blame programmers for still finding the whole thing mysterious, even 30 years after Unicode’s inception.\"\n",
    "tokens = text.encode(\"utf-8\")\n",
    "tokens = list(map(int,tokens))\n",
    "# print(\"- - - -- - - - - - - - - - - - - - - - - - - -- - - \")\n",
    "# print(text)\n",
    "# print(\"length: \",len(text))\n",
    "# print(\"- - - -- - - - - - - - - - - - - - - - - - - -- - - \")\n",
    "# # print(tokens)\n",
    "# print(\"length: \",len(token))"
   ]
  },
  {
   "cell_type": "code",
   "execution_count": 77,
   "id": "359909cd-41b0-4caf-a54f-d0976754de6f",
   "metadata": {},
   "outputs": [
    {
     "name": "stdout",
     "output_type": "stream",
     "text": [
      "count the most common pair is  101 32  with count  20\n"
     ]
    }
   ],
   "source": [
    "# counting pairs initial code\n",
    "p_1 = p_2 = count = 0\n",
    "\n",
    "for i in range(len(tokens)-1):\n",
    "    f = tokens[i]\n",
    "    l = tokens[i+1]\n",
    "    c = 0\n",
    "    for j in range(len(tokens)-1):\n",
    "        if((tokens[j] == f ) and (tokens[j+1] == l)):\n",
    "            c += 1\n",
    "    if c > count:\n",
    "        p_1 = f\n",
    "        p_2 = l\n",
    "        count = c\n",
    "print(\"count the most common pair is \",p_1,p_2,\" with count \" , count)\n",
    "    "
   ]
  },
  {
   "cell_type": "code",
   "execution_count": 78,
   "id": "89b92d5b-4781-4157-b116-31d639fe7542",
   "metadata": {},
   "outputs": [],
   "source": [
    "# counting pair v2\n",
    "def get_counts(ids):\n",
    "    counts = dict()\n",
    "    for pair in zip(ids,ids[1:]):\n",
    "        counts[pair] = counts.get(pair,0) + 1\n",
    "    return counts\n",
    "\n",
    "stats = get_counts(tokens)\n",
    "\n",
    "# stats = sorted(((v,k) for k,v in stats.items()), reverse=True)\n",
    "# print(stats)"
   ]
  },
  {
   "cell_type": "markdown",
   "id": "c3a5fcdc-8e33-4f1c-b7e8-5eb8f41fa764",
   "metadata": {},
   "source": [
    "# final code"
   ]
  },
  {
   "cell_type": "code",
   "execution_count": 5,
   "id": "f8aea7cc-ff37-4f54-b5a5-91ca515bb980",
   "metadata": {},
   "outputs": [],
   "source": [
    "# text to token\n",
    "def getToken(text):\n",
    "    token = text.encode(\"utf-8\")\n",
    "    token = list(map(int,token))\n",
    "    return token"
   ]
  },
  {
   "cell_type": "code",
   "execution_count": 6,
   "id": "aa40d0d4-b5e4-43b5-b2f3-b69eb8a9f4ce",
   "metadata": {},
   "outputs": [],
   "source": [
    "# counting pair v2\n",
    "def get_counts(ids,format=False):\n",
    "    counts = dict()\n",
    "    for pair in zip(ids,ids[1:]):\n",
    "        counts[pair] = counts.get(pair,0) + 1\n",
    "    if format:\n",
    "        return sorted(((v,k) for k,v in counts.items()), reverse=True)\n",
    "    return counts"
   ]
  },
  {
   "cell_type": "code",
   "execution_count": 7,
   "id": "4ad30a03-3a18-4d26-9da4-25d61a8360c8",
   "metadata": {},
   "outputs": [],
   "source": [
    "# reading the text\n",
    "with open(\"the-verdict.txt\", \"r\", encoding=\"utf-8\") as f:\n",
    "    raw = f.read()\n",
    "\n",
    "# text from https://www.reedbeta.com/blog/programmers-intro-to-unicode/\n",
    "text = \"Ｕｎｉｃｏｄｅ! 🅤🅝🅘🅒🅞🅓🅔‽ 🇺‌🇳‌🇮‌🇨‌🇴‌🇩‌🇪! 😄 The very name strikes fear and awe into the hearts of programmers worldwide. We all know we ought to “support Unicode” in our software (whatever that means—like using wchar_t for all the strings, right?). But Unicode can be abstruse, and diving into the thousand-page Unicode Standard plus its dozens of supplementary annexes, reports, and notes can be more than a little intimidating. I don’t blame programmers for still finding the whole thing mysterious, even 30 years after Unicode’s inception.\""
   ]
  },
  {
   "cell_type": "code",
   "execution_count": 32,
   "id": "ad69b83b-eacd-467e-a58f-2697af58b954",
   "metadata": {},
   "outputs": [],
   "source": [
    "tokens = getToken(text)\n",
    "stats = get_counts(tokens)\n",
    "# count_pairs = get_counts(tokens,format=True)\n",
    "# print(count_pairs)"
   ]
  },
  {
   "cell_type": "code",
   "execution_count": 28,
   "id": "fd02ae80-bf30-4490-94cf-9081425245c8",
   "metadata": {},
   "outputs": [],
   "source": [
    "# finding the key with the heighest value\n",
    "top_pair = max(stats, key = stats.get)"
   ]
  },
  {
   "cell_type": "code",
   "execution_count": 29,
   "id": "19114692-6ca0-46ca-9d80-bdbdbdb0cc14",
   "metadata": {},
   "outputs": [],
   "source": [
    "# merging the top pair\n",
    "def merge(ids, pair, idx):\n",
    "    \"\"\"\n",
    "    ids: the token list\n",
    "    pair: the top pair (tuple)\n",
    "    ids: the replace integer\n",
    "    \n",
    "    \"\"\"\n",
    "    i = 0\n",
    "    length = len(ids)\n",
    "    while i < (length-1):\n",
    "        if (ids[i] == pair[0]) and (ids[i+1] == pair[1]):\n",
    "            ids[i] = idx\n",
    "            ids.pop(i+1)\n",
    "            length = len(ids)\n",
    "        i += 1\n",
    "    return ids\n",
    "\n",
    "# merge([5,6,6,7,9,1,354,34,24,2,5,325,3,44,535,6,7,6,7,3,4,3,5,7,6,7], (6,7), 99)"
   ]
  },
  {
   "cell_type": "code",
   "execution_count": 34,
   "id": "847e282f-131a-4f0c-9cab-2379b9ba3a7e",
   "metadata": {},
   "outputs": [
    {
     "name": "stdout",
     "output_type": "stream",
     "text": [
      "[239, 188, 181, 239, 189, 142, 239, 189, 137, 239, 189, 131, 239, 189, 143, 239, 189, 132, 239, 189, 133, 33, 32, 240, 159, 133, 164, 240, 159, 133, 157, 240, 159, 133, 152, 240, 159, 133, 146, 240, 159, 133, 158, 240, 159, 133, 147, 240, 159, 133, 148, 226, 128, 189, 32, 240, 159, 135, 186, 226, 128, 140, 240, 159, 135, 179, 226, 128, 140, 240, 159, 135, 174, 226, 128, 140, 240, 159, 135, 168, 226, 128, 140, 240, 159, 135, 180, 226, 128, 140, 240, 159, 135, 169, 226, 128, 140, 240, 159, 135, 170, 33, 32, 240, 159, 152, 132, 32, 84, 104, 256, 118, 101, 114, 121, 32, 110, 97, 109, 256, 115, 116, 114, 105, 107, 101, 115, 32, 102, 101, 97, 114, 32, 97, 110, 100, 32, 97, 119, 256, 105, 110, 116, 111, 32, 116, 104, 256, 104, 101, 97, 114, 116, 115, 32, 111, 102, 32, 112, 114, 111, 103, 114, 97, 109, 109, 101, 114, 115, 32, 119, 111, 114, 108, 100, 119, 105, 100, 101, 46, 32, 87, 256, 97, 108, 108, 32, 107, 110, 111, 119, 32, 119, 256, 111, 117, 103, 104, 116, 32, 116, 111, 32, 226, 128, 156, 115, 117, 112, 112, 111, 114, 116, 32, 85, 110, 105, 99, 111, 100, 101, 226, 128, 157, 32, 105, 110, 32, 111, 117, 114, 32, 115, 111, 102, 116, 119, 97, 114, 256, 40, 119, 104, 97, 116, 101, 118, 101, 114, 32, 116, 104, 97, 116, 32, 109, 101, 97, 110, 115, 226, 128, 148, 108, 105, 107, 256, 117, 115, 105, 110, 103, 32, 119, 99, 104, 97, 114, 95, 116, 32, 102, 111, 114, 32, 97, 108, 108, 32, 116, 104, 256, 115, 116, 114, 105, 110, 103, 115, 44, 32, 114, 105, 103, 104, 116, 63, 41, 46, 32, 66, 117, 116, 32, 85, 110, 105, 99, 111, 100, 256, 99, 97, 110, 32, 98, 256, 97, 98, 115, 116, 114, 117, 115, 101, 44, 32, 97, 110, 100, 32, 100, 105, 118, 105, 110, 103, 32, 105, 110, 116, 111, 32, 116, 104, 256, 116, 104, 111, 117, 115, 97, 110, 100, 45, 112, 97, 103, 256, 85, 110, 105, 99, 111, 100, 256, 83, 116, 97, 110, 100, 97, 114, 100, 32, 112, 108, 117, 115, 32, 105, 116, 115, 32, 100, 111, 122, 101, 110, 115, 32, 111, 102, 32, 115, 117, 112, 112, 108, 101, 109, 101, 110, 116, 97, 114, 121, 32, 97, 110, 110, 101, 120, 101, 115, 44, 32, 114, 101, 112, 111, 114, 116, 115, 44, 32, 97, 110, 100, 32, 110, 111, 116, 101, 115, 32, 99, 97, 110, 32, 98, 256, 109, 111, 114, 256, 116, 104, 97, 110, 32, 97, 32, 108, 105, 116, 116, 108, 256, 105, 110, 116, 105, 109, 105, 100, 97, 116, 105, 110, 103, 46, 32, 73, 32, 100, 111, 110, 226, 128, 153, 116, 32, 98, 108, 97, 109, 256, 112, 114, 111, 103, 114, 97, 109, 109, 101, 114, 115, 32, 102, 111, 114, 32, 115, 116, 105, 108, 108, 32, 102, 105, 110, 100, 105, 110, 103, 32, 116, 104, 256, 119, 104, 111, 108, 256, 116, 104, 105, 110, 103, 32, 109, 121, 115, 116, 101, 114, 105, 111, 117, 115, 44, 32, 101, 118, 101, 110, 32, 51, 48, 32, 121, 101, 97, 114, 115, 32, 97, 102, 116, 101, 114, 32, 85, 110, 105, 99, 111, 100, 101, 226, 128, 153, 115, 32, 105, 110, 99, 101, 112, 116, 105, 111, 110, 46]\n"
     ]
    },
    {
     "data": {
      "text/plain": [
       "596"
      ]
     },
     "execution_count": 34,
     "metadata": {},
     "output_type": "execute_result"
    }
   ],
   "source": [
    "tokens_2 = merge(tokens,top_pair,256)\n",
    "print(tokens_2)\n",
    "len(tokens_2)"
   ]
  },
  {
   "cell_type": "code",
   "execution_count": null,
   "id": "9d199902-5a45-46fd-af7a-6e4c6f77dcfe",
   "metadata": {},
   "outputs": [],
   "source": []
  }
 ],
 "metadata": {
  "kernelspec": {
   "display_name": "Python 3 (ipykernel)",
   "language": "python",
   "name": "python3"
  },
  "language_info": {
   "codemirror_mode": {
    "name": "ipython",
    "version": 3
   },
   "file_extension": ".py",
   "mimetype": "text/x-python",
   "name": "python",
   "nbconvert_exporter": "python",
   "pygments_lexer": "ipython3",
   "version": "3.11.7"
  }
 },
 "nbformat": 4,
 "nbformat_minor": 5
}
