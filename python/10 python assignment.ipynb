{
 "cells": [
  {
   "cell_type": "markdown",
   "metadata": {
    "colab_type": "text",
    "id": "l0ZzOlyxB-kf"
   },
   "source": [
    "<h1>Python: without numpy or sklearn </h1>"
   ]
  },
  {
   "cell_type": "markdown",
   "metadata": {
    "colab_type": "text",
    "id": "C0xO8JV9B-ki"
   },
   "source": [
    "<h3> Q1: Given two matrices please print the product of those two matrices </h3>\n",
    "<pre>\n",
    "\n",
    "Ex 1: A   = [[1 3 4]\n",
    "             [2 5 7]\n",
    "             [5 9 6]]\n",
    "      B   = [[1 0 0]\n",
    "             [0 1 0]\n",
    "             [0 0 1]]\n",
    "      A*B = [[1 3 4]\n",
    "             [2 5 7]\n",
    "             [5 9 6]]\n",
    "\n",
    "     \n",
    "Ex 2: A   = [[1 2]\n",
    "             [3 4]]\n",
    "      B   = [[1 2 3 4 5]\n",
    "             [5 6 7 8 9]]\n",
    "      A*B = [[11 14 17 20 23]\n",
    "             [23 30 36 42 51]]\n",
    "             \n",
    "Ex 3: A   = [[1 2]\n",
    "             [3 4]]\n",
    "      B   = [[1 4]\n",
    "             [5 6]\n",
    "             [7 8]\n",
    "             [9 6]]\n",
    "      A*B =Not possible\n",
    "</pre>"
   ]
  },
  {
   "cell_type": "code",
   "execution_count": 1,
   "metadata": {
    "colab": {},
    "colab_type": "code",
    "id": "rnssAfpgB-kj"
   },
   "outputs": [
    {
     "name": "stdout",
     "output_type": "stream",
     "text": [
      "[1, 3, 4]\n",
      "[2, 5, 7]\n",
      "[5, 9, 6]\n",
      "[11, 14, 17, 20, 23]\n",
      "[23, 30, 37, 44, 51]\n",
      "not possible\n"
     ]
    }
   ],
   "source": [
    "# write your python code here\n",
    "# you can take the above example as sample input for your program to test\n",
    "# it should work for any general input try not to hard code for only given input examples\n",
    "\n",
    "# you can free to change all these codes/structure\n",
    "# here A and B are list of lists\n",
    "def matrix_mul(A, B):\n",
    "        \n",
    "    if len(A[0]) == len(B):\n",
    "        mul = []\n",
    "        \n",
    "        for i in range(0, len(A)):\n",
    "            row = []\n",
    "            \n",
    "            for j in range(0, len(B[0])):\n",
    "                sum = 0\n",
    "                for k in range(0, len(B)):\n",
    "                    \n",
    "                    sum += A[i][k] * B[k][j] \n",
    "                \n",
    "                row.append(sum)\n",
    "            mul.append(row)\n",
    "        \n",
    "        return mul\n",
    "\n",
    "        \n",
    "    return \"not possible\"\n",
    "    \n",
    "\n",
    "\n",
    "A   = [[1,3,4],[2,5,7],[5,9,6]]\n",
    "B   = [[1,0,0],[0,1,0],[0,0,1]]\n",
    "\n",
    "C   = [[1,2],[3,4]]\n",
    "D   = [[1,2,3,4,5],[5,6,7,8,9]]\n",
    "\n",
    "E   = [[1,2],[3,4]]\n",
    "F   = [[1,4],[5,6],[7,8],[9,6]]\n",
    "\n",
    "for row in matrix_mul(A, B):\n",
    "    print(row)\n",
    "    \n",
    "for row in matrix_mul(C, D):\n",
    "    print(row)\n",
    "    \n",
    "print(matrix_mul(E, F))\n",
    "\n"
   ]
  },
  {
   "cell_type": "markdown",
   "metadata": {
    "colab_type": "text",
    "id": "at4VwLggB-kn"
   },
   "source": [
    "<h3> Q2: Select a number randomly with probability proportional to its magnitude from the given array of n elements</h3>\n",
    "\n",
    "consider an experiment, selecting an element from the list A randomly with probability proportional to its magnitude.\n",
    "assume we are doing the same experiment for 100 times with replacement, in each experiment you will print a number that is selected randomly from A.\n",
    "\n",
    "<pre>\n",
    "Ex 1: A = [0 5 27 6 13 28 100 45 10 79]\n",
    "let f(x) denote the number of times x getting selected in 100 experiments.\n",
    "f(100) > f(79) > f(45) > f(28) > f(27) > f(13) > f(10) > f(6) > f(5) > f(0)\n",
    "</pre>"
   ]
  },
  {
   "cell_type": "code",
   "execution_count": 2,
   "metadata": {
    "colab": {},
    "colab_type": "code",
    "id": "B6S2dpBhB-kn"
   },
   "outputs": [
    {
     "name": "stdout",
     "output_type": "stream",
     "text": [
      "1 ==> 0\n",
      "5 ==> 0\n",
      "6 ==> 0\n",
      "10 ==> 4\n",
      "13 ==> 6\n",
      "27 ==> 5\n",
      "28 ==> 8\n",
      "45 ==> 11\n",
      "79 ==> 32\n",
      "100 ==> 34\n"
     ]
    }
   ],
   "source": [
    "from random import uniform\n",
    "# write your python code here\n",
    "# you can take the above example as sample input for your program to test\n",
    "# it should work for any general input try not to hard code for only given input examples\n",
    "A = [1, 5, 27, 6, 13, 28, 100, 45, 10, 79]\n",
    "def pick_a_number(A):\n",
    "    cum_sum = []\n",
    "    sum = 0\n",
    "    \n",
    "#     cumulative sum\n",
    "    for i in range(0, len(A)):\n",
    "        sum = sum + A[i]\n",
    "        cum_sum.append(sum)\n",
    "    \n",
    "    r_num = uniform(1,max(cum_sum))\n",
    "\n",
    "    for i in range(0, len(A)-1):\n",
    "        if cum_sum[i] <= r_num < cum_sum[i+1]:\n",
    "            return A[i+1]\n",
    "        \n",
    "        \n",
    "def do_exp(n,A):\n",
    "    A.sort()\n",
    "    lst = []\n",
    "    dic = dict()\n",
    "    \n",
    "    for i in range(n):\n",
    "        x = pick_a_number(A)\n",
    "        lst.append(x)\n",
    "    \n",
    "    for i in range(len(A)):\n",
    "        dic[A[i]] = lst.count(A[i])\n",
    "    for i in dic:\n",
    "        print(i, \"==>\",dic[i])\n",
    "\n",
    "do_exp(100,A)"
   ]
  },
  {
   "cell_type": "markdown",
   "metadata": {
    "colab_type": "text",
    "id": "D1xQy2WWB-kq"
   },
   "source": [
    "<h3> Q3: Replace the digits in the string with #</h3>\n",
    "\n",
    "consider a string that will have digits in that, we need to remove all the not digits and replace the digits with #\n",
    "<pre>\n",
    "Ex 1: A = 234                Output: ###\n",
    "Ex 2: A = a2b3c4             Output: ###\n",
    "Ex 3: A = abc                Output:   (empty string)\n",
    "Ex 5: A = #2a$#b%c%561#      Output: ####\n",
    "</pre>"
   ]
  },
  {
   "cell_type": "code",
   "execution_count": 3,
   "metadata": {
    "colab": {},
    "colab_type": "code",
    "id": "fxczi2jzB-kr"
   },
   "outputs": [
    {
     "data": {
      "text/plain": [
       "'####'"
      ]
     },
     "execution_count": 3,
     "metadata": {},
     "output_type": "execute_result"
    }
   ],
   "source": [
    "import re\n",
    "# write your python code here\n",
    "# you can take the above example as sample input for your program to test\n",
    "# it should work for any general input try not to hard code for only given input examples\n",
    "\n",
    "# you can free to change all these codes/structure\n",
    "# String: it will be the input to your program\n",
    "def replace_digits(String):\n",
    "    num = re.sub(r'\\D',\"\",String)\n",
    "    \n",
    "    return '#' * len(num)\n",
    "\n",
    "String = \"#2a$#b%c%561#\"\n",
    "replace_digits(String)"
   ]
  },
  {
   "cell_type": "markdown",
   "metadata": {
    "colab_type": "text",
    "id": "j7h0Ywg7B-kw"
   },
   "source": [
    "<h3> Q4: Students marks dashboard</h3>\n",
    "\n",
    "consider the marks list of class students given two lists <br>\n",
    "Students = ['student1','student2','student3','student4','student5','student6','student7','student8','student9','student10'] <br>\n",
    "Marks = [45, 78, 12, 14, 48, 43, 45, 98, 35, 80] <br>\n",
    "from the above two lists the Student[0] got Marks[0],  Student[1] got Marks[1] and so on <br><br>\n",
    "your task is to print the name of students\n",
    "<strong>a. Who got top 5 ranks, in the descending order of marks</strong> <br>\n",
    "<strong>b. Who got least 5 ranks, in the increasing order of marks</strong><br>\n",
    "<strong>d. Who got marks between  &gt;25th percentile &lt;75th percentile, in the increasing order of marks</strong>\n",
    "\n",
    "<pre>\n",
    "Ex 1: \n",
    "Students=['student1','student2','student3','student4','student5','student6','student7','student8','student9','student10'] \n",
    "Marks = [45, 78, 12, 14, 48, 43, 47, 98, 35, 80]\n",
    "a. \n",
    "student8  98\n",
    "student10 80\n",
    "student2  78\n",
    "student5  48\n",
    "student7  47\n",
    "b.\n",
    "student3 12\n",
    "student4 14\n",
    "student9 35\n",
    "student6 43\n",
    "student1 45\n",
    "c.\n",
    "student9 35\n",
    "student6 43\n",
    "student1 45\n",
    "student7 47\n",
    "student5 48\n",
    "</pre>"
   ]
  },
  {
   "cell_type": "code",
   "execution_count": 4,
   "metadata": {
    "colab": {},
    "colab_type": "code",
    "id": "cxPJgItsB-kx"
   },
   "outputs": [
    {
     "name": "stdout",
     "output_type": "stream",
     "text": [
      "['student8', 'student10', 'student2', 'student5', 'student7', 'student1']\n",
      "['student3', 'student4', 'student9', 'student6', 'student1']\n",
      "['student9', 'student6', 'student1', 'student7', 'student5']\n"
     ]
    }
   ],
   "source": [
    "# write your python code here\n",
    "# you can take the above example as sample input for your program to test\n",
    "# it should work for any general input try not to hard code for only given input examples\n",
    "\n",
    "# you can free to change all these codes/structure\n",
    "\n",
    "def name(names,marks,arr,start, end):\n",
    "    lst = []\n",
    "    val = list(marks.values())\n",
    "    \n",
    "    for i in range(start-1, end):\n",
    "        tempName = names[val.index(arr[i])]\n",
    "        lst.append(tempName)\n",
    "    return lst\n",
    "\n",
    "def display_dash_board(students, marks):\n",
    "        dicName = dict()\n",
    "        dicMarks = dict()\n",
    "\n",
    "        for i in range(len(Students)):\n",
    "            dicName[i] = Students[i]\n",
    "            dicMarks[i] = Marks[i]\n",
    "\n",
    "        marks.sort()\n",
    "\n",
    "        #getting key from values\n",
    "        key_list = list(dicMarks.keys())\n",
    "        val_list = list(dicMarks.values())\n",
    "\n",
    "        # write code for computing top top 5 students\n",
    "        top_5_students = name(dicName, dicMarks, marks, len(marks)-5, len(marks))\n",
    "\n",
    "\n",
    "\n",
    "        # write code for computing top least 5 students\n",
    "        least_5_students = name(dicName, dicMarks, marks, 1, 5)\n",
    "\n",
    "\n",
    "        # write code for computing top least 5 students\n",
    "        students_within_25_and_75 = name(dicName, dicMarks, marks, 3, 7)\n",
    "\n",
    "        return top_5_students, least_5_students, students_within_25_and_75\n",
    "    \n",
    "Students = ['student1','student2','student3','student4','student5','student6','student7','student8','student9','student10']\n",
    "Marks = [45, 78, 12, 14, 48, 43, 47, 98, 35, 80]\n",
    "\n",
    "top_5_students, least_5_students, students_within_25_and_75 = display_dash_board(Students, Marks)\n",
    "print(top_5_students[::-1])\n",
    "print(least_5_students)\n",
    "print(students_within_25_and_75)"
   ]
  },
  {
   "cell_type": "markdown",
   "metadata": {
    "colab_type": "text",
    "id": "qha0OhQHB-k1"
   },
   "source": [
    "<h3> Q5: Find the closest points</h3>\n",
    "\n",
    "consider you have given n data points in the form of list of tuples like S=[(x1,y1),(x2,y2),(x3,y3),(x4,y4),(x5,y5),..,(xn,yn)] and a point P=(p,q) <br> your task is to find 5 closest points(based on cosine distance) in S from P\n",
    "<br>cosine distance between two points (x,y) and (p,q) is defind as $cos^{-1}(\\frac{(x\\cdot p+y\\cdot q)}{\\sqrt(x^2+y^2)\\cdot\\sqrt(p^2+q^2)})$\n",
    "<pre>\n",
    "Ex:\n",
    "\n",
    "S= [(1,2),(3,4),(-1,1),(6,-7),(0, 6),(-5,-8),(-1,-1)(6,0),(1,-1)]\n",
    "P= (3,-4)\n",
    "<img src='https://i.imgur.com/vIFPOcG.jpg', width=300>\n",
    "Output:\n",
    "(6,-7)\n",
    "(1,-1)\n",
    "(6,0)\n",
    "(-5,-8)\n",
    "(-1,-1)\n",
    "</pre>"
   ]
  },
  {
   "cell_type": "code",
   "execution_count": 5,
   "metadata": {
    "colab": {},
    "colab_type": "code",
    "id": "wA5I1g-2B-k2"
   },
   "outputs": [
    {
     "name": "stdout",
     "output_type": "stream",
     "text": [
      "(6, -7)\n",
      "(1, -1)\n",
      "(6, 0)\n",
      "(-5, -8)\n",
      "(-1, -1)\n"
     ]
    }
   ],
   "source": [
    "# write your python code here\n",
    "# you can take the above example as sample input for your program to test\n",
    "# it should work for any general input try not to hard code for only given input examples\n",
    "# you can free to change all these codes/structure\n",
    "# here S is list of tuples and P is a tuple ot len=2\n",
    "\n",
    "import math\n",
    "\n",
    "def calculate(n,m):\n",
    "    x = n[0]\n",
    "    y = n[1]\n",
    "\n",
    "    p = m[0]\n",
    "    q = m[1]\n",
    "    return math.acos(              ( (x*p) + (y*q) )\\\n",
    "    / ( ( math.sqrt((x**2) + (y**2) ) ) * ( math.sqrt( (p**2) + (q**2) ) ) ) )\n",
    "\n",
    "\n",
    "\n",
    "def closest_points_to_p(S, P):\n",
    "    dic = dict()\n",
    "    \n",
    "    for i in range(len(S)):\n",
    "        dic[S[i]] = calculate(S[i], P)\n",
    "    \n",
    "    arr = list(dic.values())\n",
    "    val = list(dic.values())\n",
    "    key = list(dic.keys())\n",
    "    arr.sort()\n",
    "    \n",
    "    closest_points_to_p = []\n",
    "    for i in range(5):\n",
    "        point = key[val.index(arr[i])]\n",
    "        closest_points_to_p.append(point)\n",
    "    \n",
    "    return closest_points_to_p\n",
    "\n",
    "############################################################################3\n",
    "\n",
    "S= [(1,2),(3,4),(-1,1),(6,-7),(0, 6),(-5,-8),(-1,-1),(6,0),(1,-1)]\n",
    "P= (3,-4)\n",
    "\n",
    "points = closest_points_to_p(S, P)\n",
    "\n",
    "for i in points:\n",
    "    print(i)"
   ]
  },
  {
   "cell_type": "markdown",
   "metadata": {
    "colab_type": "text",
    "id": "-g11jeAiB-k5"
   },
   "source": [
    "<h3> Q6: Find Which line separates oranges and apples</h3>\n",
    "consider you have given two set of data points in the form of list of tuples like \n",
    "<pre>\n",
    "Red =[(R11,R12),(R21,R22),(R31,R32),(R41,R42),(R51,R52),..,(Rn1,Rn2)]\n",
    "Blue=[(B11,B12),(B21,B22),(B31,B32),(B41,B42),(B51,B52),..,(Bm1,Bm2)]\n",
    "</pre>\n",
    "and set of line equations(in the string formate, i.e list of strings)\n",
    "<pre>\n",
    "Lines = [a1x+b1y+c1,a2x+b2y+c2,a3x+b3y+c3,a4x+b4y+c4,..,K lines]\n",
    "Note: you need to string parsing here and get the coefficients of x,y and intercept\n",
    "</pre>\n",
    "your task is to for each line that is given print \"YES\"/\"NO\", you will print yes, if all the red points are one side of the line and blue points are other side of the line, otherwise no\n",
    "<pre>\n",
    "Ex:\n",
    "Red= [(1,1),(2,1),(4,2),(2,4), (-1,4)]\n",
    "Blue= [(-2,-1),(-1,-2),(-3,-2),(-3,-1),(1,-3)]\n",
    "Lines=[\"1x+1y+0\",\"1x-1y+0\",\"1x+0y-3\",\"0x+1y-0.5\"]\n",
    "<img src='https://i.imgur.com/DoQf7mE.jpg' width=400>\n",
    "Output:\n",
    "YES\n",
    "NO\n",
    "NO\n",
    "YES\n",
    "</pre>"
   ]
  },
  {
   "cell_type": "code",
   "execution_count": 6,
   "metadata": {
    "colab": {},
    "colab_type": "code",
    "id": "eRxExaTRB-k6"
   },
   "outputs": [
    {
     "name": "stdout",
     "output_type": "stream",
     "text": [
      "Yes\n",
      "no\n",
      "no\n",
      "Yes\n"
     ]
    }
   ],
   "source": [
    "# write your python code here\n",
    "# you can take the above example as sample input for your program to test\n",
    "# it should work for any general input try not to hard code for only given input strings\n",
    "# you can free to change all these codes/structure\n",
    "\n",
    "import math\n",
    "\n",
    "def getCor(s):\n",
    "    \n",
    "    first = s.split('x')\n",
    "    a = float(first[0])\n",
    "    \n",
    "    second = first[1].split('y')\n",
    "    b = float(second[0])\n",
    "    c = float(second[1])\n",
    "    \n",
    "    return (a,b,c)\n",
    "\n",
    "\n",
    "def getSide(t,p):\n",
    "    \n",
    "    cal = (t[0] * p[0]) + (t[1] * p[1]) + (t[2])\n",
    "\n",
    "    if cal > 0:\n",
    "        return 1\n",
    "    elif cal < 0:\n",
    "        return -1\n",
    "    elif cal == 0:\n",
    "        return 0\n",
    "    return -2\n",
    "\n",
    "\n",
    "def getAns(red,blue,line):\n",
    "    \n",
    "    sign_red = getSide(getCor(line),red[0])\n",
    "    sign_blue = getSide(getCor(line),blue[0])\n",
    "        \n",
    "    for j in range(len(red)):\n",
    "        if sign_red != getSide(getCor(line),red[j]):\n",
    "            return 'no'\n",
    "\n",
    "    for j in range(len(blue)):\n",
    "\n",
    "        if sign_blue != getSide(getCor(line),blue[j]):\n",
    "            return 'no'\n",
    "    return 'Yes'\n",
    "\n",
    "\n",
    "Red= [(1,1),(2,1),(4,2),(2,4), (-1,4)]\n",
    "Blue= [(-2,-1),(-1,-2),(-3,-2),(-3,-1),(1,-3)]\n",
    "Lines=[\"1x+1y+0\",\"1x-1y+0\",\"1x+0y-3\",\"0x+1y-0.5\"]\n",
    "\n",
    "for i in Lines:\n",
    "    ans = getAns(Red, Blue, i)\n",
    "    print(ans)"
   ]
  },
  {
   "cell_type": "markdown",
   "metadata": {
    "colab_type": "text",
    "id": "9OBpURbNB-k9"
   },
   "source": [
    "<h3> Q7: Filling the missing values in the specified formate</h3>\n",
    "You will be given a string with digits and '\\_'(missing value) symbols you have to replace the '\\_' symbols as explained \n",
    "<pre>\n",
    "Ex 1: _, _, _, 24 ==> 24/4, 24/4, 24/4, 24/4 i.e we. have distributed the 24 equally to all 4 places <br>\n",
    "Ex 2: 40, _, _, _, 60 ==> (60+40)/5,(60+40)/5,(60+40)/5,(60+40)/5,(60+40)/5 ==> 20, 20, 20, 20, 20 i.e. the sum of (60+40) is distributed qually to all 5 places<br>\n",
    "Ex 3: 80, _, _, _, _  ==> 80/5,80/5,80/5,80/5,80/5 ==> 16, 16, 16, 16, 16 i.e. the 80 is distributed qually to all 5 missing values that are right to it<br>\n",
    "Ex 4: _, _, 30, _, _, _, 50, _, _  \n",
    "==> we will fill the missing values from left to right \n",
    "    a. first we will distribute the 30 to left two missing values (10, 10, 10, _, _, _, 50, _, _)\n",
    "    b. now distribute the sum (10+50) missing values in between (10, 10, 12, 12, 12, 12, 12, _, _) \n",
    "    c. now we will distribute 12 to right side missing values (10, 10, 12, 12, 12, 12, 4, 4, 4)\n",
    "</pre>\n",
    "for a given string with comma seprate values, which will have both missing values numbers like ex: \"_, _, x, _, _, _\"\n",
    "you need fill the missing values\n",
    "\n",
    "Q: your program reads a string like ex: \"_, _, x, _, _, _\" and returns the filled sequence\n",
    "\n",
    "Ex: \n",
    "<pre>\n",
    "Input1: \"_,_,_,24\"\n",
    "Output1: 6,6,6,6\n",
    "\n",
    "Input2: \"40,_,_,_,60\"\n",
    "Output2: 20,20,20,20,20\n",
    "\n",
    "Input3: \"80,_,_,_,_\"\n",
    "Output3: 16,16,16,16,16\n",
    "\n",
    "Input4: \"_,_,30,_,_,_,50,_,_\"\n",
    "Output4: 10,10,12,12,12,12,4,4,4\n",
    "</pre>\n",
    "\n"
   ]
  },
  {
   "cell_type": "code",
   "execution_count": 7,
   "metadata": {
    "colab": {},
    "colab_type": "code",
    "id": "nZmpzHs_B-k-"
   },
   "outputs": [
    {
     "name": "stdout",
     "output_type": "stream",
     "text": [
      "[10, 10, 12, 12, 12, 12, 4, 4, 4]\n",
      "[20, 20, 20, 20, 20]\n",
      "[6, 6, 6, 6]\n",
      "[16, 16, 16, 16, 16]\n",
      "[10, 10, 12, 12, 12, 12, 8, 8, 8, 8]\n"
     ]
    }
   ],
   "source": [
    "# write your python code here\n",
    "# you can take the above example as sample input for your program to test\n",
    "# it should work for any general input try not to hard code for only given input strings\n",
    "# you can free to change all these codes/structure\n",
    "\n",
    "def getStr(st):\n",
    "    s = st.split(',')\n",
    "    k = {}\n",
    "    counter = 0\n",
    "    lstcounter = 0\n",
    "    for i in range(len(s)):\n",
    "        if s[i].isdigit():\n",
    "            if lstcounter != i:\n",
    "                k[counter] = (lstcounter,i)\n",
    "                counter = counter + 1\n",
    "                lstcounter = i\n",
    "\n",
    "        if lstcounter < len(s):\n",
    "            if lstcounter != len(s)-1:\n",
    "                k[counter] = (lstcounter,len(s)-1)\n",
    "    \n",
    "    return k\n",
    "\n",
    "def getCal(s,d):\n",
    "    lst = []\n",
    "    for i in range(len(d)):\n",
    "        firstIndex = d[i][0]\n",
    "        secondIndex = d[i][1]\n",
    "        first_ele = str(s[d[i][0]])\n",
    "        second_ele = str(s[d[i][1]])\n",
    "\n",
    "        if first_ele.isdigit() and second_ele.isdigit():\n",
    "            for j in range(firstIndex, secondIndex + 1):\n",
    "                s[j] = ((int(first_ele) + int(second_ele)) // (secondIndex - firstIndex + 1))\n",
    "\n",
    "        elif second_ele.isdigit():\n",
    "            for j in range(firstIndex, secondIndex + 1):\n",
    "                s[j] = (( int(second_ele)) // (secondIndex - firstIndex + 1))\n",
    "        elif first_ele.isdigit():\n",
    "            for j in range(firstIndex, secondIndex + 1):\n",
    "                s[j] = (( int(first_ele)) // (secondIndex - firstIndex + 1))\n",
    "    return s\n",
    "\n",
    "\n",
    "\n",
    "def getSmootString(string):\n",
    "    \n",
    "    indexes = getStr(string)\n",
    "    lst = getCal(string.split(','),getStr(string))\n",
    "    \n",
    "    return lst\n",
    "\n",
    "\n",
    "a =  \"_,_,30,_,_,_,50,_,_\"\n",
    "b = \"40,_,_,_,60\"\n",
    "c = \"_,_,_,24\"\n",
    "d = \"80,_,_,_,_\"\n",
    "e = \"10_,_,30,_,_,_,50,_,_,20\"\n",
    "\n",
    "\n",
    "print(getSmootString(a))\n",
    "print(getSmootString(b))\n",
    "print(getSmootString(c))\n",
    "print(getSmootString(d))\n",
    "print(getSmootString(e))"
   ]
  },
  {
   "cell_type": "markdown",
   "metadata": {
    "colab_type": "text",
    "id": "RBz4pzlfB-lB"
   },
   "source": [
    "<h3> Q8: Filling the missing values in the specified formate</h3>\n",
    "You will be given a list of lists, each sublist will be of length 2 i.e. [[x,y],[p,q],[l,m]..[r,s]]\n",
    "consider its like a martrix of n rows and two columns\n",
    "1. the first column F will contain only 5 uniques values (F1, F2, F3, F4, F5)\n",
    "2. the second column S will contain only 3 uniques values (S1, S2, S3)\n",
    "<pre>\n",
    "your task is to find\n",
    "a. Probability of P(F=F1|S==S1), P(F=F1|S==S2), P(F=F1|S==S3)\n",
    "b. Probability of P(F=F2|S==S1), P(F=F2|S==S2), P(F=F2|S==S3)\n",
    "c. Probability of P(F=F3|S==S1), P(F=F3|S==S2), P(F=F3|S==S3)\n",
    "d. Probability of P(F=F4|S==S1), P(F=F4|S==S2), P(F=F4|S==S3)\n",
    "e. Probability of P(F=F5|S==S1), P(F=F5|S==S2), P(F=F5|S==S3)\n",
    "</pre>\n",
    "Ex:\n",
    "\n",
    "<pre>\n",
    "[[F1,S1],[F2,S2],[F3,S3],[F1,S2],[F2,S3],[F3,S2],[F2,S1],[F4,S1],[F4,S3],[F5,S1]]\n",
    "\n",
    "a. P(F=F1|S==S1)=1/4, P(F=F1|S==S2)=1/3, P(F=F1|S==S3)=0/3\n",
    "b. P(F=F2|S==S1)=1/4, P(F=F2|S==S2)=1/3, P(F=F2|S==S3)=1/3\n",
    "c. P(F=F3|S==S1)=0/4, P(F=F3|S==S2)=1/3, P(F=F3|S==S3)=1/3\n",
    "d. P(F=F4|S==S1)=1/4, P(F=F4|S==S2)=0/3, P(F=F4|S==S3)=1/3\n",
    "e. P(F=F5|S==S1)=1/4, P(F=F5|S==S2)=0/3, P(F=F5|S==S3)=0/3\n",
    "</pre>\n",
    "\n",
    "\n"
   ]
  },
  {
   "cell_type": "code",
   "execution_count": 8,
   "metadata": {
    "colab": {},
    "colab_type": "code",
    "id": "e-1giz1MB-lC"
   },
   "outputs": [
    {
     "name": "stdout",
     "output_type": "stream",
     "text": [
      "P(F=F1|S==S1)=1/4 \n",
      "P(F=F1|S==S2)=1/3 \n",
      "P(F=F1|S==S3)=0/3 \n",
      "\n",
      "P(F=F2|S==S1)=1/4 \n",
      "P(F=F2|S==S2)=1/3 \n",
      "P(F=F2|S==S3)=1/3 \n",
      "\n",
      "P(F=F3|S==S1)=0/4 \n",
      "P(F=F3|S==S2)=1/3 \n",
      "P(F=F3|S==S3)=1/3 \n",
      "\n",
      "P(F=F4|S==S1)=1/4 \n",
      "P(F=F4|S==S2)=0/3 \n",
      "P(F=F4|S==S3)=1/3 \n",
      "\n",
      "P(F=F5|S==S1)=1/4 \n",
      "P(F=F5|S==S2)=0/3 \n",
      "P(F=F5|S==S3)=0/3 \n",
      "\n"
     ]
    }
   ],
   "source": [
    "# write your python code here\n",
    "# you can take the above example as sample input for your program to test\n",
    "# it should work for any general input try not to hard code for only given input strings\n",
    "# you can free to change all these codes/structure\n",
    "\n",
    "def calculateProb(A,given,find):\n",
    "    de = 0\n",
    "    no = 0\n",
    "    for i in A:\n",
    "        if i[1] == given:\n",
    "            de += 1\n",
    "            if i[0] == find:\n",
    "                no += 1\n",
    "    return str(no)+ '/' + str(de)\n",
    "\n",
    "def compute_conditional_probabilites(A):\n",
    "    a = ['F1','F2','F3','F4','F5']\n",
    "    b = ['S1','S2','S3']\n",
    "    \n",
    "    for i in range(len(a)):\n",
    "        for j in range(len(b)):\n",
    "            print(f\"P(F={a[i]}|S=={b[j]})={calculateProb(A,b[j],a[i])} \")\n",
    "        print()\n",
    "\n",
    "A = [['F1','S1'],['F2','S2'],['F3','S3'],['F1','S2'],['F2','S3'],['F3','S2'],['F2','S1'],['F4','S1'],['F4','S3'],['F5','S1']]\n",
    "\n",
    "compute_conditional_probabilites(A)"
   ]
  },
  {
   "cell_type": "markdown",
   "metadata": {
    "colab_type": "text",
    "id": "n4HS87QmB-lF"
   },
   "source": [
    "<h3> Q9: Given two sentances S1, S2</h3>\n",
    "You will be given two sentances S1, S2 your task is to find \n",
    "<pre>\n",
    "a. Number of common words between S1, S2\n",
    "b. Words in S1 but not in S2\n",
    "c. Words in S2 but not in S1\n",
    "</pre>\n",
    "\n",
    "Ex: \n",
    "<pre>\n",
    "S1= \"the first column F will contain only 5 uniques values\"\n",
    "S2= \"the second column S will contain only 3 uniques values\"\n",
    "Output:\n",
    "a. 7\n",
    "b. ['first','F','5']\n",
    "c. ['second','S','3']\n",
    "</pre>"
   ]
  },
  {
   "cell_type": "code",
   "execution_count": 9,
   "metadata": {
    "colab": {},
    "colab_type": "code",
    "id": "Ez7hlHK0B-lG"
   },
   "outputs": [
    {
     "name": "stdout",
     "output_type": "stream",
     "text": [
      "7\n",
      "['first', 'F', '5']\n",
      "['second', 'S', '3']\n"
     ]
    }
   ],
   "source": [
    "# write your python code here\n",
    "# you can take the above example as sample input for your program to test\n",
    "# it should work for any general input try not to hard code for only given input strings\n",
    "# you can free to change all these codes/structure\n",
    "\n",
    "def string_features(S1, S2):\n",
    "    a = 0\n",
    "    b = []\n",
    "    c = []\n",
    "    \n",
    "    for i in S1.split():\n",
    "        for j in S2.split():\n",
    "            \n",
    "            if i == j:\n",
    "                a += 1\n",
    "            else:\n",
    "                if (i not in S2) and (i not in b):\n",
    "                    b.append(i)\n",
    "                    \n",
    "                elif (j not in S1) and (j not in c):\n",
    "                    c.append(j)\n",
    "  \n",
    "    return a, b, c\n",
    "\n",
    "S1= \"the first column F will contain only 5 uniques values\"\n",
    "S2= \"the second column S will contain only 3 uniques values\"\n",
    "a,b,c = string_features(S1, S2)\n",
    "print(a)\n",
    "print(b)\n",
    "print(c)"
   ]
  },
  {
   "cell_type": "markdown",
   "metadata": {
    "colab_type": "text",
    "id": "XefXVEjCB-lI"
   },
   "source": [
    "<h3> Q10: Given two sentances S1, S2</h3>\n",
    "You will be given a list of lists, each sublist will be of length 2 i.e. [[x,y],[p,q],[l,m]..[r,s]]\n",
    "consider its like a martrix of n rows and two columns\n",
    "\n",
    "a. the first column Y will contain interger values <br>\n",
    "b. the second column $Y_{score}$ will be having float values <br>\n",
    "Your task is to find the value of $f(Y,Y_{score}) = -1*\\frac{1}{n}\\Sigma_{for each Y,Y_{score} pair}(Ylog10(Y_{score})+(1-Y)log10(1-Y_{score}))$ here n is the number of rows in the matrix\n",
    "<pre>\n",
    "Ex:\n",
    "[[1, 0.4], [0, 0.5], [0, 0.9], [0, 0.3], [0, 0.6], [1, 0.1], [1, 0.9], [1, 0.8]]\n",
    "output:\n",
    "0.4243099\n",
    "</pre>\n",
    "$\\frac{-1}{8}\\cdot((1\\cdot log_{10}(0.4)+0\\cdot log_{10}(0.6))+(0\\cdot log_{10}(0.5)+1\\cdot log_{10}(0.5)) + ... + (1\\cdot log_{10}(0.8)+0\\cdot log_{10}(0.2)) )$"
   ]
  },
  {
   "cell_type": "code",
   "execution_count": 10,
   "metadata": {
    "colab": {},
    "colab_type": "code",
    "id": "N9zkagyNB-lJ"
   },
   "outputs": [
    {
     "name": "stdout",
     "output_type": "stream",
     "text": [
      "0.42430993457031635\n"
     ]
    }
   ],
   "source": [
    "# write your python code here\n",
    "# you can take the above example as sample input for your program to test\n",
    "# it should work for any general input try not to hard code for only given input strings\n",
    "# you can free to change all these codes/structure\n",
    "\n",
    "import math\n",
    "\n",
    "def compute_log_loss(A):\n",
    "    loss = 0\n",
    "    for i in A:\n",
    "        loss += -1 * 1/len(A) * ((i[0]*math.log10(i[1])) + ((1 - i[0]) * math.log10(1- i[1])) )\n",
    "        \n",
    "    return loss\n",
    "\n",
    "A = [[1, 0.4], [0, 0.5], [0, 0.9], [0, 0.3], [0, 0.6], [1, 0.1], [1, 0.9], [1, 0.8]]\n",
    "loss = compute_log_loss(A)\n",
    "print(loss)"
   ]
  },
  {
   "cell_type": "code",
   "execution_count": null,
   "metadata": {},
   "outputs": [],
   "source": []
  }
 ],
 "metadata": {
  "colab": {
   "collapsed_sections": [],
   "name": "1.Python Assignment.ipynb",
   "provenance": []
  },
  "kernelspec": {
   "display_name": "Python 3",
   "language": "python",
   "name": "python3"
  },
  "language_info": {
   "codemirror_mode": {
    "name": "ipython",
    "version": 3
   },
   "file_extension": ".py",
   "mimetype": "text/x-python",
   "name": "python",
   "nbconvert_exporter": "python",
   "pygments_lexer": "ipython3",
   "version": "3.8.10"
  }
 },
 "nbformat": 4,
 "nbformat_minor": 1
}
