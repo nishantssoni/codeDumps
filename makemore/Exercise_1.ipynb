{
 "cells": [
  {
   "cell_type": "code",
   "execution_count": 1,
   "id": "01303708-ca05-444d-af09-c1ac7507b18c",
   "metadata": {},
   "outputs": [],
   "source": [
    "# Exercises:\n",
    "# E01: train a trigram language model, i.e. take two characters as an input to predict the 3rd one. Feel free to use either counting or a neural net. Evaluate the loss; Did it improve over a bigram model?\n",
    "# E02: split up the dataset randomly into 80% train set, 10% dev set, 10% test set. Train the bigram and trigram models only on the training set. Evaluate them on dev and test splits. What can you see?\n",
    "# E03: use the dev set to tune the strength of smoothing (or regularization) for the trigram model - i.e. try many possibilities and see which one works best based on the dev set loss. What patterns can you see in the train and dev set loss as you tune this strength? Take the best setting of the smoothing and evaluate on the test set once and at the end. How good of a loss do you achieve?\n",
    "# E04: we saw that our 1-hot vectors merely select a row of W, so producing these vectors explicitly feels wasteful. Can you delete our use of F.one_hot in favor of simply indexing into rows of W?\n",
    "# E05: look up and use F.cross_entropy instead. You should achieve the same result. Can you think of why we'd prefer to use F.cross_entropy instead?\n",
    "# E06: meta-exercise! Think of a fun/interesting exercise and complete it."
   ]
  },
  {
   "cell_type": "markdown",
   "id": "50ef988b-9210-4038-865e-094a89e5669b",
   "metadata": {},
   "source": [
    "## E01"
   ]
  },
  {
   "cell_type": "code",
   "execution_count": 1,
   "id": "3154b716-a96f-4b8d-916b-ba67d8937892",
   "metadata": {},
   "outputs": [
    {
     "name": "stdout",
     "output_type": "stream",
     "text": [
      "length :  32033\n",
      "max word length :  15\n",
      "min word length :  2\n",
      "['emma', 'olivia', 'ava', 'isabella', 'sophia']\n"
     ]
    }
   ],
   "source": [
    "# loading the data\n",
    "import torch\n",
    "import matplotlib.pyplot as plt\n",
    "%matplotlib inline\n",
    "import torch.nn.functional as F\n",
    "\n",
    "\n",
    "words = open(\"names.txt\", 'r').read().splitlines()\n",
    "\n",
    "# words des\n",
    "print(\"length : \",len(words))\n",
    "print(\"max word length : \",max(len(w) for w in words))\n",
    "print(\"min word length : \",min(len(w) for w in words))\n",
    "print(words[:5])"
   ]
  },
  {
   "cell_type": "code",
   "execution_count": 2,
   "id": "c7ff1fe0-0325-4df6-bf4d-b2126276be27",
   "metadata": {},
   "outputs": [],
   "source": [
    "# preprocessing\n",
    "N = torch.zeros((27,702), dtype=torch.int32)\n",
    "\n",
    "a = '.abcdefghijklmnopqrstuvwxyz'\n",
    "d_stoi = {}\n",
    "count = 0\n",
    "for i in a:\n",
    "    for j in a[1:]:\n",
    "        d_stoi[(i+j)] = count\n",
    "        count += 1\n",
    "\n",
    "s_stoi = {}\n",
    "count = 0\n",
    "for i in a:\n",
    "    s_stoi[i] = count\n",
    "    count += 1\n",
    "s_stoi\n",
    "\n",
    "# reverse stoi\n",
    "d_itos = {i:s for s,i in d_stoi.items()}\n",
    "s_itos = {i:s for s,i in s_stoi.items()}\n",
    "\n",
    "\n",
    "for w in words:\n",
    "    w = '.' + w + '.'\n",
    "    length = len(w)\n",
    "    if length > 1:\n",
    "        for i in range(length - 1): \n",
    "            try: \n",
    "                ix1 = d_stoi[(w[i:i+2])]\n",
    "                ix2 = s_stoi[(w[i+2])]\n",
    "            except:\n",
    "                continue\n",
    "            N[ix2, ix1] += 1"
   ]
  },
  {
   "cell_type": "code",
   "execution_count": 3,
   "id": "41f205be-e196-4544-9f81-b341abdaa85f",
   "metadata": {},
   "outputs": [
    {
     "data": {
      "text/plain": [
       "tensor(1.)"
      ]
     },
     "execution_count": 3,
     "metadata": {},
     "output_type": "execute_result"
    }
   ],
   "source": [
    "out = []\n",
    "P = (N+1).float()\n",
    "row_sum = P.sum(1, keepdim=True) \n",
    "\n",
    "P /= row_sum\n",
    "P[0].sum()"
   ]
  },
  {
   "cell_type": "code",
   "execution_count": 4,
   "id": "0a2d5631-850c-482d-9ad4-217db9a6b534",
   "metadata": {},
   "outputs": [
    {
     "name": "stdout",
     "output_type": "stream",
     "text": [
      "log_likelihood=tensor(-919222.3750)\n",
      "negative_log_likelihood=tensor(919222.3750)\n",
      "avg_negative_log_likelihood=tensor(4.6872)\n"
     ]
    }
   ],
   "source": [
    "# loss\n",
    "log_likelihood = 0.0\n",
    "counter = 0\n",
    "\n",
    "for w in words:\n",
    "    w = '.' + w + '.'\n",
    "    length = len(w)\n",
    "    if length > 1:\n",
    "        for i in range(length - 1): \n",
    "            try: \n",
    "                ix1 = d_stoi[(w[i:i+2])]\n",
    "                ix2 = s_stoi[(w[i+2])]\n",
    "            except:\n",
    "                continue\n",
    "            N[ix2, ix1] += 1\n",
    "            prob = P[ix2, ix1]\n",
    "            logprob = torch.log(prob)\n",
    "            log_likelihood += logprob\n",
    "            counter +=1\n",
    "\n",
    "\n",
    "\n",
    "negative_log_likelihood = -log_likelihood\n",
    "avg_negative_log_likelihood = negative_log_likelihood / counter\n",
    "\n",
    "print(f'{log_likelihood=}')\n",
    "print(f'{negative_log_likelihood=}')\n",
    "print(f'{avg_negative_log_likelihood=}')"
   ]
  },
  {
   "cell_type": "code",
   "execution_count": 23,
   "id": "063ee9e5-6688-4588-b81c-adea784f55ba",
   "metadata": {},
   "outputs": [
    {
     "name": "stdout",
     "output_type": "stream",
     "text": [
      "['phjydance', 'vivivmylobettcx', 'copqkxvycmvwqjg', 'lukwbmsjcqsuwwq', 'kipdtcxtiqgpqxw']\n"
     ]
    }
   ],
   "source": [
    "# sampling\n",
    "g = None\n",
    "out = []\n",
    "for i in range(5):\n",
    "    name =''\n",
    "    is_start = True\n",
    "    while True:\n",
    "        if is_start:\n",
    "            ix = torch.multinomial(P[0][:26], num_samples=1, replacement=True,generator = g).item()\n",
    "            name +=d_itos[ix]\n",
    "            ix = torch.multinomial(P[:,ix], num_samples=1, replacement=True,generator = g).item()\n",
    "            name += s_itos[ix]\n",
    "            is_start = False\n",
    "        else:\n",
    "            to_fed = name[-2:] # last two string\n",
    "            ix = d_stoi[to_fed]\n",
    "            ix = torch.multinomial(P[:,ix], num_samples=1, replacement=True,generator = g).item()\n",
    "            name += s_itos[ix]\n",
    "        if ix == 0 or len(name) > 15:  #if its find '.'\n",
    "            if len(name) > 15: name += '.'\n",
    "            break\n",
    "\n",
    "    out.append(name[1:-1])\n",
    "print(out)"
   ]
  },
  {
   "cell_type": "markdown",
   "id": "14aff2fc-e37a-4431-abd1-3471dfc220f9",
   "metadata": {},
   "source": [
    "## E02"
   ]
  },
  {
   "cell_type": "code",
   "execution_count": null,
   "id": "dbcb13a0-e1e0-4b09-92ad-265ebbbc012e",
   "metadata": {},
   "outputs": [],
   "source": []
  }
 ],
 "metadata": {
  "kernelspec": {
   "display_name": "Python 3 (ipykernel)",
   "language": "python",
   "name": "python3"
  },
  "language_info": {
   "codemirror_mode": {
    "name": "ipython",
    "version": 3
   },
   "file_extension": ".py",
   "mimetype": "text/x-python",
   "name": "python",
   "nbconvert_exporter": "python",
   "pygments_lexer": "ipython3",
   "version": "3.11.7"
  }
 },
 "nbformat": 4,
 "nbformat_minor": 5
}
