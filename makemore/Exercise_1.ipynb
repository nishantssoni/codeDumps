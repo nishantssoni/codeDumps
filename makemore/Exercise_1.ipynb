{
 "cells": [
  {
   "cell_type": "code",
   "execution_count": 1,
   "id": "01303708-ca05-444d-af09-c1ac7507b18c",
   "metadata": {},
   "outputs": [],
   "source": [
    "# Exercises:\n",
    "# E01: train a trigram language model, i.e. take two characters as an input to predict the 3rd one. Feel free to use either counting or a neural net. Evaluate the loss; Did it improve over a bigram model?\n",
    "# E02: split up the dataset randomly into 80% train set, 10% dev set, 10% test set. Train the bigram and trigram models only on the training set. Evaluate them on dev and test splits. What can you see?\n",
    "# E03: use the dev set to tune the strength of smoothing (or regularization) for the trigram model - i.e. try many possibilities and see which one works best based on the dev set loss. What patterns can you see in the train and dev set loss as you tune this strength? Take the best setting of the smoothing and evaluate on the test set once and at the end. How good of a loss do you achieve?\n",
    "# E04: we saw that our 1-hot vectors merely select a row of W, so producing these vectors explicitly feels wasteful. Can you delete our use of F.one_hot in favor of simply indexing into rows of W?\n",
    "# E05: look up and use F.cross_entropy instead. You should achieve the same result. Can you think of why we'd prefer to use F.cross_entropy instead?\n",
    "# E06: meta-exercise! Think of a fun/interesting exercise and complete it."
   ]
  },
  {
   "cell_type": "markdown",
   "id": "50ef988b-9210-4038-865e-094a89e5669b",
   "metadata": {},
   "source": [
    "## E01"
   ]
  },
  {
   "cell_type": "code",
   "execution_count": 3,
   "id": "3154b716-a96f-4b8d-916b-ba67d8937892",
   "metadata": {},
   "outputs": [
    {
     "name": "stdout",
     "output_type": "stream",
     "text": [
      "length :  32033\n",
      "max word length :  15\n",
      "min word length :  2\n",
      "['emma', 'olivia', 'ava', 'isabella', 'sophia']\n"
     ]
    }
   ],
   "source": [
    "# loading the data\n",
    "import torch\n",
    "import matplotlib.pyplot as plt\n",
    "%matplotlib inline\n",
    "import torch.nn.functional as F\n",
    "from tqdm import tqdm\n",
    "\n",
    "\n",
    "words = open(\"names.txt\", 'r').read().splitlines()\n",
    "\n",
    "# words des\n",
    "print(\"length : \",len(words))\n",
    "print(\"max word length : \",max(len(w) for w in words))\n",
    "print(\"min word length : \",min(len(w) for w in words))\n",
    "print(words[:5])"
   ]
  },
  {
   "cell_type": "code",
   "execution_count": 4,
   "id": "c7ff1fe0-0325-4df6-bf4d-b2126276be27",
   "metadata": {},
   "outputs": [
    {
     "name": "stderr",
     "output_type": "stream",
     "text": [
      "100%|██████████████████████████████████████████████████████████████████████████| 32033/32033 [00:19<00:00, 1648.18it/s]\n"
     ]
    }
   ],
   "source": [
    "# preprocessing\n",
    "N = torch.zeros((27,702), dtype=torch.int32)\n",
    "\n",
    "a = '.abcdefghijklmnopqrstuvwxyz'\n",
    "d_stoi = {}\n",
    "count = 0\n",
    "for i in a:\n",
    "    for j in a[1:]:\n",
    "        d_stoi[(i+j)] = count\n",
    "        count += 1\n",
    "\n",
    "s_stoi = {}\n",
    "count = 0\n",
    "for i in a:\n",
    "    s_stoi[i] = count\n",
    "    count += 1\n",
    "s_stoi\n",
    "\n",
    "# reverse stoi\n",
    "d_itos = {i:s for s,i in d_stoi.items()}\n",
    "s_itos = {i:s for s,i in s_stoi.items()}\n",
    "\n",
    "\n",
    "for w in tqdm(words):\n",
    "    w = '.' + w + '.'\n",
    "    length = len(w)\n",
    "    if length > 1:\n",
    "        for i in range(length - 1): \n",
    "            try: \n",
    "                ix1 = d_stoi[(w[i:i+2])]\n",
    "                ix2 = s_stoi[(w[i+2])]\n",
    "            except:\n",
    "                continue\n",
    "            N[ix2, ix1] += 1"
   ]
  },
  {
   "cell_type": "code",
   "execution_count": 5,
   "id": "41f205be-e196-4544-9f81-b341abdaa85f",
   "metadata": {},
   "outputs": [
    {
     "data": {
      "text/plain": [
       "tensor(1.)"
      ]
     },
     "execution_count": 5,
     "metadata": {},
     "output_type": "execute_result"
    }
   ],
   "source": [
    "out = []\n",
    "P = (N+1).float()\n",
    "row_sum = P.sum(1, keepdim=True) \n",
    "\n",
    "P /= row_sum\n",
    "P[0].sum()"
   ]
  },
  {
   "cell_type": "code",
   "execution_count": 8,
   "id": "8a79a8d3-8ac1-4e6c-8072-53cd2b2eb4c1",
   "metadata": {},
   "outputs": [
    {
     "name": "stderr",
     "output_type": "stream",
     "text": [
      "100%|██████████████████████████████████████████████████████████████████████████| 32033/32033 [00:13<00:00, 2382.96it/s]"
     ]
    },
    {
     "name": "stdout",
     "output_type": "stream",
     "text": [
      "log_likelihood=tensor(-919222.3750)\n",
      "negative_log_likelihood=tensor(919222.3750)\n",
      "avg_negative_log_likelihood=tensor(4.6872)\n"
     ]
    },
    {
     "name": "stderr",
     "output_type": "stream",
     "text": [
      "\n"
     ]
    }
   ],
   "source": [
    "# loss\n",
    "log_likelihood = 0.0\n",
    "counter = 0\n",
    "\n",
    "for w in tqdm(words):\n",
    "    w = '.' + w + '.'\n",
    "    length = len(w)\n",
    "    if length > 1:\n",
    "        for i in range(length - 1): \n",
    "            try: \n",
    "                ix1 = d_stoi[(w[i:i+2])]\n",
    "                ix2 = s_stoi[(w[i+2])]\n",
    "            except:\n",
    "                continue\n",
    "            prob = P[ix2, ix1]\n",
    "            logprob = torch.log(prob)\n",
    "            log_likelihood += logprob\n",
    "            counter +=1\n",
    "\n",
    "\n",
    "\n",
    "negative_log_likelihood = -log_likelihood\n",
    "avg_negative_log_likelihood = negative_log_likelihood / counter\n",
    "\n",
    "print(f'{log_likelihood=}')\n",
    "print(f'{negative_log_likelihood=}')\n",
    "print(f'{avg_negative_log_likelihood=}')"
   ]
  },
  {
   "cell_type": "code",
   "execution_count": 10,
   "id": "063ee9e5-6688-4588-b81c-adea784f55ba",
   "metadata": {},
   "outputs": [
    {
     "name": "stdout",
     "output_type": "stream",
     "text": [
      "['wijjgtodisbscoj', 'wingushtpjfvjcj', 'kaysen', 'mcla', 'jzwmkwqdcmqgkxv']\n"
     ]
    }
   ],
   "source": [
    "# sampling\n",
    "g = None\n",
    "out = []\n",
    "for i in range(5):\n",
    "    name =''\n",
    "    is_start = True\n",
    "    while True:\n",
    "        if is_start:\n",
    "            ix = torch.multinomial(P[0][:26], num_samples=1, replacement=True,generator = g).item()\n",
    "            name +=d_itos[ix]\n",
    "            ix = torch.multinomial(P[:,ix], num_samples=1, replacement=True,generator = g).item()\n",
    "            name += s_itos[ix]\n",
    "            is_start = False\n",
    "        else:\n",
    "            to_fed = name[-2:] # last two string\n",
    "            ix = d_stoi[to_fed]\n",
    "            ix = torch.multinomial(P[:,ix], num_samples=1, replacement=True,generator = g).item()\n",
    "            name += s_itos[ix]\n",
    "        if ix == 0 or len(name) > 15:  #if its find '.'\n",
    "            if len(name) > 15: name += '.'\n",
    "            break\n",
    "\n",
    "    out.append(name[1:-1])\n",
    "print(out)"
   ]
  },
  {
   "cell_type": "code",
   "execution_count": 44,
   "id": "1895a22e-639b-496b-b453-2dbbac3e0bcb",
   "metadata": {},
   "outputs": [
    {
     "data": {
      "text/plain": [
       "torch.Size([27, 702])"
      ]
     },
     "execution_count": 44,
     "metadata": {},
     "output_type": "execute_result"
    }
   ],
   "source": [
    "P.shape"
   ]
  },
  {
   "cell_type": "code",
   "execution_count": 139,
   "id": "641b3d5a-e3f8-4f77-9e4c-387b7cdf6972",
   "metadata": {},
   "outputs": [
    {
     "name": "stdout",
     "output_type": "stream",
     "text": [
      "no of examples:  196113\n"
     ]
    }
   ],
   "source": [
    "# neural network approch\n",
    "import torch.nn.functional as F\n",
    "\n",
    "\n",
    "# my code\n",
    "xs, ys = [], []\n",
    "for w in words:   #['nishant']:\n",
    "    w = '.' + w + '.'\n",
    "    length = len(w)\n",
    "    if length > 1:\n",
    "        for i in range(length - 1): \n",
    "            try: \n",
    "                ix1 = d_stoi[(w[i:i+2])]\n",
    "                ix2 = s_stoi[(w[i+2])]\n",
    "            except:\n",
    "                continue\n",
    "            xs.append(ix1)\n",
    "            ys.append(ix2)\n",
    "            \n",
    "xs = torch.tensor(xs)\n",
    "ys = torch.tensor(ys)\n",
    "num = xs.nelement()\n",
    "print('no of examples: ', num)\n",
    "\n",
    "# initialize the networks\n",
    "g = torch.Generator().manual_seed(2147483647)\n",
    "W = torch.randn((702,27), generator=g, requires_grad=True)"
   ]
  },
  {
   "cell_type": "code",
   "execution_count": 140,
   "id": "3fe9c05c-df70-44a3-b794-70627e7bc4f9",
   "metadata": {},
   "outputs": [
    {
     "name": "stdout",
     "output_type": "stream",
     "text": [
      "3.769960403442383\n",
      "3.6858088970184326\n",
      "3.609027624130249\n",
      "3.538339614868164\n",
      "3.473231792449951\n",
      "3.413414478302002\n",
      "3.358614444732666\n",
      "3.3084981441497803\n",
      "3.262662172317505\n",
      "3.22066593170166\n",
      "3.1820740699768066\n",
      "3.1464831829071045\n",
      "3.113539934158325\n",
      "3.082942008972168\n",
      "3.0544345378875732\n",
      "3.027801752090454\n",
      "3.002861976623535\n",
      "2.9794585704803467\n",
      "2.957456350326538\n",
      "2.9367332458496094\n",
      "2.9171831607818604\n",
      "2.8987069129943848\n",
      "2.8812150955200195\n",
      "2.864625930786133\n",
      "2.8488636016845703\n",
      "2.833861827850342\n",
      "2.8195576667785645\n",
      "2.8058955669403076\n",
      "2.792825937271118\n",
      "2.780303478240967\n",
      "2.7682878971099854\n",
      "2.756743907928467\n",
      "2.745638370513916\n",
      "2.734942674636841\n",
      "2.72463059425354\n",
      "2.7146782875061035\n",
      "2.705064535140991\n",
      "2.695770263671875\n",
      "2.686777353286743\n",
      "2.6780686378479004\n",
      "2.669631004333496\n",
      "2.6614489555358887\n",
      "2.653510570526123\n",
      "2.645803928375244\n",
      "2.638317823410034\n",
      "2.631042242050171\n",
      "2.6239681243896484\n",
      "2.617086172103882\n",
      "2.6103880405426025\n",
      "2.6038661003112793\n"
     ]
    }
   ],
   "source": [
    "# gradient descent\n",
    "\n",
    "for k in range(50):\n",
    "    # forward pass\n",
    "    xenc = F.one_hot(xs, num_classes=702).float() #cast to float becaue we feed float in NN\n",
    "    logits = xenc @ W #log-counts\n",
    "    counts = logits.exp() #eqivalent to N from above\n",
    "    prob = counts / counts.sum(1, keepdim=True)\n",
    "    loss = -prob[torch.arange(num), ys].log().mean() + 0.01*(W**2).mean()\n",
    "    print(loss.item())\n",
    "\n",
    "    # backward pass\n",
    "    W.grad = None #set grad to zero gradient\n",
    "    loss.backward()\n",
    "\n",
    "    # update\n",
    "    W.data += -50 * W.grad"
   ]
  },
  {
   "cell_type": "code",
   "execution_count": 150,
   "id": "e04a1e1e-7f8f-43bb-a771-c5c8fff6da9a",
   "metadata": {},
   "outputs": [
    {
     "name": "stdout",
     "output_type": "stream",
     "text": [
      "['.rah.', '.jaicdmari.', '.xiiqydcxsobmtha.', '.faijblla.', '.raapiqton.']\n"
     ]
    }
   ],
   "source": [
    "# sampling\n",
    "g = None\n",
    "out = []\n",
    "for i in range(5):\n",
    "    name =''\n",
    "    is_start = True\n",
    "    while True:\n",
    "        if is_start:\n",
    "            ix = torch.multinomial(P[0][:26], num_samples=1, replacement=True,generator = g).item()\n",
    "            name +=d_itos[ix]\n",
    "            is_start = False\n",
    "        else:\n",
    "            to_fed = name[-2:] # last two string\n",
    "            ix = d_stoi[to_fed]\n",
    "        \n",
    "        xenc = F.one_hot(torch.tensor([ix]), num_classes=702).float()\n",
    "        logits = xenc @ W # predict log-counts\n",
    "        counts = logits.exp() # counts, equivalent to N\n",
    "        p = counts / counts.sum(1, keepdims=True)\n",
    "        ix = torch.multinomial(p, num_samples=1, replacement=True, generator=g).item()\n",
    "        name += s_itos[ix]\n",
    "        \n",
    "        if ix == 0 or len(name) > 15:  #if its find '.'\n",
    "            if len(name) > 15: name += '.'\n",
    "            break\n",
    "\n",
    "    out.append(name)\n",
    "print(out)"
   ]
  },
  {
   "cell_type": "code",
   "execution_count": 104,
   "id": "690c472c-b697-4175-95af-918e63cdfcad",
   "metadata": {},
   "outputs": [
    {
     "name": "stdout",
     "output_type": "stream",
     "text": [
      "trigram example ::  .n i\n",
      "probablity NN thinks  0.040418144315481186\n",
      "log likeyhood -3.2084765434265137\n",
      "negetive log likeyhood 3.2084765434265137\n",
      "\n",
      "\n",
      "\n",
      "\n",
      "trigram example ::  ni s\n",
      "probablity NN thinks  0.021364973857998848\n",
      "log likeyhood -3.8460023403167725\n",
      "negetive log likeyhood 3.8460023403167725\n",
      "\n",
      "\n",
      "\n",
      "\n",
      "trigram example ::  is h\n",
      "probablity NN thinks  0.0185163002461195\n",
      "log likeyhood -3.9891037940979004\n",
      "negetive log likeyhood 3.9891037940979004\n",
      "\n",
      "\n",
      "\n",
      "\n",
      "trigram example ::  sh a\n",
      "probablity NN thinks  0.10089954733848572\n",
      "log likeyhood -2.2936298847198486\n",
      "negetive log likeyhood 2.2936298847198486\n",
      "\n",
      "\n",
      "\n",
      "\n",
      "trigram example ::  ha n\n",
      "probablity NN thinks  0.10444221645593643\n",
      "log likeyhood -2.2591214179992676\n",
      "negetive log likeyhood 2.2591214179992676\n",
      "\n",
      "\n",
      "\n",
      "\n",
      "trigram example ::  an t\n",
      "probablity NN thinks  0.08236471563577652\n",
      "log likeyhood -2.496598243713379\n",
      "negetive log likeyhood 2.496598243713379\n",
      "\n",
      "\n",
      "\n",
      "\n",
      "trigram example ::  nt .\n",
      "probablity NN thinks  0.004763565491884947\n",
      "log likeyhood -5.346758842468262\n",
      "negetive log likeyhood 5.346758842468262\n",
      "\n",
      "\n",
      "\n",
      "\n",
      "avg negetive nll is ::  3.348527431488037\n"
     ]
    }
   ],
   "source": [
    "# checking each step\n",
    "nulls = torch.zeros(7)\n",
    "for i in range(7):\n",
    "    x = xs[i].item()\n",
    "    y = ys[i].item()\n",
    "    print(\"trigram example :: \",d_itos[x],s_itos[y])\n",
    "    p = prob[i,y]\n",
    "    print(\"probablity NN thinks \",p.item())\n",
    "    logp = torch.log(p)\n",
    "    \n",
    "    print(\"log likeyhood\", logp.item())\n",
    "    null = -logp\n",
    "    print(\"negetive log likeyhood\", null.item())\n",
    "    nulls[i] = null\n",
    "    print('\\n\\n\\n')\n",
    "print(\"avg negetive nll is :: \", nulls.mean().item())"
   ]
  },
  {
   "cell_type": "markdown",
   "id": "14aff2fc-e37a-4431-abd1-3471dfc220f9",
   "metadata": {},
   "source": [
    "## E02"
   ]
  },
  {
   "cell_type": "code",
   "execution_count": 12,
   "id": "978682ee-9c29-4abe-b300-43ee7d462122",
   "metadata": {},
   "outputs": [],
   "source": [
    "from torch.utils.data import random_split"
   ]
  },
  {
   "cell_type": "code",
   "execution_count": 26,
   "id": "db4d7558-9dfa-4179-9b87-f2a4c9955fdd",
   "metadata": {},
   "outputs": [],
   "source": [
    "train_set, dev_set, test_set = torch.utils.data.random_split(words, [0.8, 0.1, 0.1])"
   ]
  },
  {
   "cell_type": "code",
   "execution_count": 27,
   "id": "7aebb094-e62c-4786-bdf5-95dd1de7e1a7",
   "metadata": {},
   "outputs": [],
   "source": [
    "train_set = list(train_set)\n",
    "dev_set = list(dev_set)\n",
    "test_set = list(test_set)"
   ]
  },
  {
   "cell_type": "code",
   "execution_count": 31,
   "id": "a917d9f5-7492-4aa7-a374-6a0c1e0a1f6f",
   "metadata": {},
   "outputs": [
    {
     "data": {
      "text/plain": [
       "3203"
      ]
     },
     "execution_count": 31,
     "metadata": {},
     "output_type": "execute_result"
    }
   ],
   "source": []
  },
  {
   "cell_type": "code",
   "execution_count": null,
   "id": "2427303f-959d-4872-a4d7-c810bdc6d1c5",
   "metadata": {},
   "outputs": [],
   "source": []
  }
 ],
 "metadata": {
  "kernelspec": {
   "display_name": "Python 3 (ipykernel)",
   "language": "python",
   "name": "python3"
  },
  "language_info": {
   "codemirror_mode": {
    "name": "ipython",
    "version": 3
   },
   "file_extension": ".py",
   "mimetype": "text/x-python",
   "name": "python",
   "nbconvert_exporter": "python",
   "pygments_lexer": "ipython3",
   "version": "3.11.7"
  }
 },
 "nbformat": 4,
 "nbformat_minor": 5
}
