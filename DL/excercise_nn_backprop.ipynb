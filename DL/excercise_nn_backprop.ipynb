{
 "cells": [
  {
   "cell_type": "markdown",
   "id": "b47be1c9-6a91-4461-b57d-fad3a0c5a40c",
   "metadata": {
    "jp-MarkdownHeadingCollapsed": true
   },
   "source": [
    "## section 1: derivatives"
   ]
  },
  {
   "cell_type": "code",
   "execution_count": 2,
   "id": "7531f00f-3533-4edf-9def-c992757bf3ab",
   "metadata": {},
   "outputs": [
    {
     "name": "stdout",
     "output_type": "stream",
     "text": [
      "6.336362190988558\n"
     ]
    }
   ],
   "source": [
    "# here is a mathematical expression that takes 3 inputs and produces one output\n",
    "from math import sin, cos\n",
    "\n",
    "def f(a, b, c):\n",
    "  return -a**3 + sin(3*b) - 1.0/c + b**2.5 - a**0.5\n",
    "\n",
    "print(f(2, 3, 4))"
   ]
  },
  {
   "cell_type": "code",
   "execution_count": 27,
   "id": "f1d96350-fa99-4b10-9897-45e74cbe2f45",
   "metadata": {},
   "outputs": [
    {
     "name": "stdout",
     "output_type": "stream",
     "text": [
      "OK for dim 0: expected -12.353553390593273, yours returns -12.353553390593273\n",
      "OK for dim 1: expected 10.25699027111255, yours returns 10.25699027111255\n",
      "OK for dim 2: expected 0.0625, yours returns 0.0625\n"
     ]
    }
   ],
   "source": [
    "# write the function df that returns the analytical gradient of f\n",
    "# i.e. use your skills from calculus to take the derivative, then implement the formula\n",
    "# if you do not calculus then feel free to ask wolframalpha, e.g.:\n",
    "# https://www.wolframalpha.com/input?i=d%2Fda%28sin%283*a%29%29%29\n",
    "\n",
    "def gradf(a, b, c):\n",
    "    df_da = -3*(a**2) - (0.5*(a**(-0.5)))\n",
    "    df_db = 3*cos(3*b) + 2.5 * (b**1.5)\n",
    "    df_dc = c**(-2)\n",
    "    return [df_da, df_db, df_dc] # todo, return [df/da, df/db, df/dc]\n",
    "\n",
    "# expected answer is the list of \n",
    "ans = [-12.353553390593273, 10.25699027111255, 0.0625]\n",
    "yours = gradf(2, 3, 4)\n",
    "for dim in range(3):\n",
    "  ok = 'OK' if abs(yours[dim] - ans[dim]) < 1e-5 else 'WRONG!'\n",
    "  print(f\"{ok} for dim {dim}: expected {ans[dim]}, yours returns {yours[dim]}\")"
   ]
  },
  {
   "cell_type": "code",
   "execution_count": 40,
   "id": "5c288e8d-075a-4daf-be2c-b4aad323edc7",
   "metadata": {},
   "outputs": [
    {
     "name": "stdout",
     "output_type": "stream",
     "text": [
      "OK for dim 0: expected -12.353553390593273, yours returns -12.353553966448771\n",
      "OK for dim 1: expected 10.25699027111255, yours returns 10.256990385926201\n",
      "OK for dim 2: expected 0.0625, yours returns 0.06249999628948899\n"
     ]
    }
   ],
   "source": [
    "# now estimate the gradient numerically without any calculus, using\n",
    "# the approximation we used in the video.\n",
    "# you should not call the function df from the last cell\n",
    "\n",
    "# -----------\n",
    "numerical_grad = [0, 0, 0] # TODO\n",
    "# -----------\n",
    "\n",
    "h = 0.0000001\n",
    "a = 2\n",
    "b = 3\n",
    "c = 4\n",
    "\n",
    "# for df/da\n",
    "L1 = -a**3 + sin(3*b) - 1.0/c + b**2.5 - a**0.5\n",
    "L2 = -(a+h)**3 + sin(3*b) - 1.0/c + b**2.5 - (a+h)**0.5\n",
    "numerical_grad[0] = (L2-L1)/h\n",
    "\n",
    "# for df/db\n",
    "L1 = -a**3 + sin(3*b) - 1.0/c + b**2.5 - a**0.5\n",
    "L2 = -a**3 + sin(3*(b+h)) - 1.0/c + (b+h)**2.5 - a**0.5\n",
    "numerical_grad[1] = (L2-L1)/h\n",
    "\n",
    "# for df/dc\n",
    "L1 = -a**3 + sin(3*b) - 1.0/c + b**2.5 - a**0.5\n",
    "L2 = -a**3 + sin(3*b) - 1.0/(c+h) + b**2.5 - a**0.5\n",
    "numerical_grad[2] = (L2-L1)/h\n",
    "\n",
    "\n",
    "for dim in range(3):\n",
    "  ok = 'OK' if abs(numerical_grad[dim] - ans[dim]) < 1e-5 else 'WRONG!'\n",
    "  print(f\"{ok} for dim {dim}: expected {ans[dim]}, yours returns {numerical_grad[dim]}\")\n"
   ]
  },
  {
   "cell_type": "code",
   "execution_count": 39,
   "id": "9bfe1ecd-91c8-406e-895b-625b0171a8f5",
   "metadata": {},
   "outputs": [
    {
     "name": "stdout",
     "output_type": "stream",
     "text": [
      "OK for dim 0: expected -12.353553390593273, yours returns -12.353553380251014\n",
      "OK for dim 1: expected 10.25699027111255, yours returns 10.256990252699438\n",
      "OK for dim 2: expected 0.0625, yours returns 0.06250000073038109\n"
     ]
    }
   ],
   "source": [
    "# there is an alternative formula that provides a much better numerical \n",
    "# approximation to the derivative of a function.\n",
    "# learn about it here: https://en.wikipedia.org/wiki/Symmetric_derivative\n",
    "# implement it. confirm that for the same step size h this version gives a\n",
    "# better approximation.\n",
    "\n",
    "# -----------\n",
    "numerical_grad2 = [0, 0, 0] # TODO\n",
    "# -----------\n",
    "\n",
    "\n",
    "h = 0.0000001\n",
    "a = 2\n",
    "b = 3\n",
    "c = 4\n",
    "\n",
    "# for df/da\n",
    "L1 = -(a+h)**3 + sin(3*b) - 1.0/c + b**2.5 - (a+h)**0.5\n",
    "L2 = -(a-h)**3 + sin(3*b) - 1.0/c + b**2.5 - (a-h)**0.5\n",
    "\n",
    "numerical_grad2[0] = (L1-L2)/(2*h)\n",
    "\n",
    "# for df/db\n",
    "L1 = -a**3 + sin(3*(b+h)) - 1.0/c + (b+h)**2.5 - a**0.5\n",
    "L2 = -a**3 + sin(3*(b-h)) - 1.0/c + (b-h)**2.5 - a**0.5\n",
    "\n",
    "numerical_grad2[1] = (L1-L2)/(2*h)\n",
    "\n",
    "# for df/dc\n",
    "L1 = -a**3 + sin(3*b) - 1.0/(c+h) + b**2.5 - a**0.5\n",
    "L2 = -a**3 + sin(3*b) - 1.0/(c-h) + b**2.5 - a**0.5\n",
    "\n",
    "numerical_grad2[2] = (L1-L2)/(2*h)\n",
    "\n",
    "\n",
    "for dim in range(3):\n",
    "  ok = 'OK' if abs(numerical_grad2[dim] - ans[dim]) < 1e-5 else 'WRONG!'\n",
    "  print(f\"{ok} for dim {dim}: expected {ans[dim]}, yours returns {numerical_grad2[dim]}\")\n"
   ]
  },
  {
   "cell_type": "markdown",
   "id": "fa30c30e-439c-44b3-9602-7efecb4437f8",
   "metadata": {},
   "source": [
    "## section 2: support for softmax"
   ]
  },
  {
   "cell_type": "code",
   "execution_count": 44,
   "id": "7faed38d-e45f-463e-9ea7-05cb05ed31aa",
   "metadata": {},
   "outputs": [],
   "source": [
    "from math import exp, log\n",
    "\n",
    "class Value:\n",
    "\t\n",
    "\tdef __init__(self, data, _children=(), _op='', label=''):\n",
    "\t\tself.data = data\n",
    "\t\tself.grad = 0.0\n",
    "\t\tself._backward = lambda: None\n",
    "\t\tself._prev = set(_children)\n",
    "\t\tself._op = _op\n",
    "\t\tself.label = label\n",
    "\n",
    "\tdef __repr__(self):\n",
    "\t\treturn f\"Value(data={self.data})\"\n",
    "\t\n",
    "\tdef __add__(self, other): \n",
    "\t\tother = other if isinstance(other, Value) else Value(other)\n",
    "\t\tout = Value(self.data + other.data, (self, other), '+')\n",
    "\n",
    "\t\tdef _backward():\n",
    "\t\t\tself.grad += 1.0 * out.grad\n",
    "\t\t\tother.grad += 1.0 * out.grad\n",
    "\t\tout._backward = _backward\n",
    "\n",
    "\t\treturn out\n",
    "\n",
    "\tdef __mul__(self, other):\n",
    "\t\tother = other if isinstance(other, Value) else Value(other)\n",
    "\t\tout = Value(self.data * other.data, (self, other), '*')\n",
    "\n",
    "\t\tdef _backward():\n",
    "\t\t\tself.grad += other.data * out.grad\n",
    "\t\t\tother.grad += self.data * out.grad\n",
    "\t\tout._backward = _backward\n",
    "\n",
    "\t\treturn out\n",
    "\t\n",
    "\tdef __pow__(self, other):\n",
    "\t\t# Called when raising a Value object to the power of an int or float\n",
    "\t\tassert isinstance(other, (int, float)), \"Only supporting int/float powers for now\"\n",
    "\t\tout = Value(self.data ** other, (self,), f'**{other}')\n",
    "\n",
    "\t\tdef _backward():\n",
    "\t\t\t# Gradient for power operation\n",
    "\t\t\tself.grad += other * (self.data ** (other - 1)) * out.grad\n",
    "\t\t\n",
    "\t\tout._backward = _backward\n",
    "\t\treturn out \n",
    "    \n",
    "\t\t  \n",
    "\tdef __radd__(self, other): \n",
    "\t\treturn self + other\n",
    "\t\t  \n",
    "\tdef __truediv__(self, other):\n",
    "\t\treturn self * (other ** -1)\n",
    "\t\t  \n",
    "\tdef __neg__(self):\n",
    "\t\treturn (self * -1)\n",
    "\t\t  \n",
    "\tdef exp(self):\n",
    "\t\tout = Value(exp(self.data),(self,),'exp')\n",
    "\t\tdef _backward():\n",
    "\t\t\tself.grad += out.data * out.grad\n",
    "\t\tout._backward = _backward\n",
    "\t\treturn out\n",
    "\n",
    "\tdef log(self):\n",
    "\t\tout = Value(log(self.data),(self,),'log')\n",
    "\t\tdef _backward():\n",
    "\t\t\tself.grad += ((1/self.data) * out.grad)\n",
    "\t\tout._backward = _backward\n",
    "\t\treturn out\n",
    "\t\t  \n",
    "\n",
    "\t# ------\n",
    "\t# re-implement all the other functions needed for the exercises below\n",
    "\t# your code here\n",
    "\t# TODO\n",
    "\t# ------\n",
    "\t\n",
    "\tdef backward(self): \n",
    "\t\ttopo = []\n",
    "\t\tvisited = set()\n",
    "\t\t\n",
    "\t\tdef build_topo(v):\n",
    "\t\t\tif v not in visited:\n",
    "\t\t\t\tvisited.add(v)\n",
    "\t\t\t\tfor child in v._prev:\n",
    "\t\t\t\t\tbuild_topo(child)\n",
    "\t\t\t\ttopo.append(v)\n",
    "\t\t\n",
    "\t\tbuild_topo(self)\n",
    "\t\t\n",
    "\t\tself.grad = 1.0\n",
    "\t\tfor node in reversed(topo):\n",
    "\t\t\tnode._backward()\n"
   ]
  },
  {
   "cell_type": "code",
   "execution_count": 46,
   "id": "0a80a41e-bb6a-4a77-833c-9ef6cebdd5ea",
   "metadata": {},
   "outputs": [
    {
     "name": "stdout",
     "output_type": "stream",
     "text": [
      "OK for dim 0: expected 0.041772570515350445, yours returns 0.041772570515350445\n",
      "OK for dim 1: expected 0.8390245074625319, yours returns 0.8390245074625319\n",
      "OK for dim 2: expected 0.005653302662216329, yours returns 0.005653302662216329\n",
      "OK for dim 3: expected -0.8864503806400986, yours returns -0.8864503806400986\n"
     ]
    }
   ],
   "source": [
    "# without referencing our code/video __too__ much, make this cell work\n",
    "# you'll have to implement (in some cases re-implemented) a number of functions\n",
    "# of the Value object, similar to what we've seen in the video.\n",
    "# instead of the squared error loss this implements the negative log likelihood\n",
    "# loss, which is very often used in classification.\n",
    "\n",
    "# this is the softmax function\n",
    "# https://en.wikipedia.org/wiki/Softmax_function\n",
    "def softmax(logits):\n",
    "    counts = [logit.exp() for logit in logits]\n",
    "    # print(counts)\n",
    "    denominator = sum(counts)\n",
    "    out = [c / denominator for c in counts]\n",
    "    return out\n",
    "\n",
    "# this is the negative log likelihood loss function, pervasive in classification\n",
    "logits = [Value(0.0), Value(3.0), Value(-2.0), Value(1.0)]\n",
    "probs = softmax(logits)\n",
    "loss = -probs[3].log() # dim 3 acts as the label for this input example\n",
    "loss.backward()\n",
    "\n",
    "ans = [0.041772570515350445, 0.8390245074625319, 0.005653302662216329, -0.8864503806400986]\n",
    "for dim in range(4):\n",
    "  ok = 'OK' if abs(logits[dim].grad - ans[dim]) < 1e-5 else 'WRONG!'\n",
    "  print(f\"{ok} for dim {dim}: expected {ans[dim]}, yours returns {logits[dim].grad}\")\n"
   ]
  },
  {
   "cell_type": "code",
   "execution_count": 45,
   "id": "33dae573-2507-4e68-ae77-95ca037fdbdd",
   "metadata": {},
   "outputs": [
    {
     "name": "stdout",
     "output_type": "stream",
     "text": [
      "tensor([0.0418, 0.8390, 0.0057, 0.1135], grad_fn=<SoftmaxBackward0>)\n",
      "tensor(2.1755, grad_fn=<NegBackward0>)\n",
      "OK for dim 0: expected 0.041772570515350445, yours returns 0.041772566735744476\n",
      "OK for dim 1: expected 0.8390245074625319, yours returns 0.8390244841575623\n",
      "OK for dim 2: expected 0.005653302662216329, yours returns 0.005653302650898695\n",
      "OK for dim 3: expected -0.8864503806400986, yours returns -0.8864504098892212\n"
     ]
    }
   ],
   "source": [
    "# verify the gradient using the torch library\n",
    "# torch should give you the exact same gradient\n",
    "import torch\n",
    "a = torch.tensor([0.0,3.0, -2.0, 1.0],requires_grad=True)\n",
    "probs = torch.nn.functional.softmax(a, dim=0)\n",
    "print(probs)\n",
    "loss = -probs[3].log()\n",
    "print(loss)\n",
    "a.grad = None\n",
    "loss.backward()\n",
    "my_ans = list(a.grad.detach().numpy())\n",
    "\n",
    "\n",
    "ans = [0.041772570515350445, 0.8390245074625319, 0.005653302662216329, -0.8864503806400986]\n",
    "for dim in range(4):\n",
    "  ok = 'OK' if abs(my_ans[dim] - ans[dim]) < 1e-5 else 'WRONG!'\n",
    "  print(f\"{ok} for dim {dim}: expected {ans[dim]}, yours returns {my_ans[dim]}\")"
   ]
  }
 ],
 "metadata": {
  "kernelspec": {
   "display_name": "Python 3 (ipykernel)",
   "language": "python",
   "name": "python3"
  },
  "language_info": {
   "codemirror_mode": {
    "name": "ipython",
    "version": 3
   },
   "file_extension": ".py",
   "mimetype": "text/x-python",
   "name": "python",
   "nbconvert_exporter": "python",
   "pygments_lexer": "ipython3",
   "version": "3.11.7"
  }
 },
 "nbformat": 4,
 "nbformat_minor": 5
}
