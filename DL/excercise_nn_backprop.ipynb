{
 "cells": [
  {
   "cell_type": "code",
   "execution_count": 2,
   "id": "7531f00f-3533-4edf-9def-c992757bf3ab",
   "metadata": {},
   "outputs": [
    {
     "name": "stdout",
     "output_type": "stream",
     "text": [
      "6.336362190988558\n"
     ]
    }
   ],
   "source": [
    "# here is a mathematical expression that takes 3 inputs and produces one output\n",
    "from math import sin, cos\n",
    "\n",
    "def f(a, b, c):\n",
    "  return -a**3 + sin(3*b) - 1.0/c + b**2.5 - a**0.5\n",
    "\n",
    "print(f(2, 3, 4))"
   ]
  },
  {
   "cell_type": "code",
   "execution_count": 27,
   "id": "f1d96350-fa99-4b10-9897-45e74cbe2f45",
   "metadata": {},
   "outputs": [
    {
     "name": "stdout",
     "output_type": "stream",
     "text": [
      "OK for dim 0: expected -12.353553390593273, yours returns -12.353553390593273\n",
      "OK for dim 1: expected 10.25699027111255, yours returns 10.25699027111255\n",
      "OK for dim 2: expected 0.0625, yours returns 0.0625\n"
     ]
    }
   ],
   "source": [
    "# write the function df that returns the analytical gradient of f\n",
    "# i.e. use your skills from calculus to take the derivative, then implement the formula\n",
    "# if you do not calculus then feel free to ask wolframalpha, e.g.:\n",
    "# https://www.wolframalpha.com/input?i=d%2Fda%28sin%283*a%29%29%29\n",
    "\n",
    "def gradf(a, b, c):\n",
    "    df_da = -3*(a**2) - (0.5*(a**(-0.5)))\n",
    "    df_db = 3*cos(3*b) + 2.5 * (b**1.5)\n",
    "    df_dc = c**(-2)\n",
    "    return [df_da, df_db, df_dc] # todo, return [df/da, df/db, df/dc]\n",
    "\n",
    "# expected answer is the list of \n",
    "ans = [-12.353553390593273, 10.25699027111255, 0.0625]\n",
    "yours = gradf(2, 3, 4)\n",
    "for dim in range(3):\n",
    "  ok = 'OK' if abs(yours[dim] - ans[dim]) < 1e-5 else 'WRONG!'\n",
    "  print(f\"{ok} for dim {dim}: expected {ans[dim]}, yours returns {yours[dim]}\")"
   ]
  },
  {
   "cell_type": "code",
   "execution_count": 35,
   "id": "5c288e8d-075a-4daf-be2c-b4aad323edc7",
   "metadata": {},
   "outputs": [
    {
     "name": "stdout",
     "output_type": "stream",
     "text": [
      "OK for dim 0: expected -12.353553390593273, yours returns -12.353559348809995\n",
      "OK for dim 1: expected 10.25699027111255, yours returns 10.256991666679482\n",
      "OK for dim 2: expected 0.0625, yours returns 0.062499984743169534\n"
     ]
    }
   ],
   "source": [
    "# now estimate the gradient numerically without any calculus, using\n",
    "# the approximation we used in the video.\n",
    "# you should not call the function df from the last cell\n",
    "\n",
    "# -----------\n",
    "numerical_grad = [0, 0, 0] # TODO\n",
    "# -----------\n",
    "\n",
    "h = 0.000001\n",
    "a = 2\n",
    "b = 3\n",
    "c = 4\n",
    "\n",
    "# for df/da\n",
    "L1 = -a**3 + sin(3*b) - 1.0/c + b**2.5 - a**0.5\n",
    "L2 = -(a+h)**3 + sin(3*b) - 1.0/c + b**2.5 - (a+h)**0.5\n",
    "numerical_grad[0] = (L2-L1)/h\n",
    "\n",
    "# for df/db\n",
    "L1 = -a**3 + sin(3*b) - 1.0/c + b**2.5 - a**0.5\n",
    "L2 = -a**3 + sin(3*(b+h)) - 1.0/c + (b+h)**2.5 - a**0.5\n",
    "numerical_grad[1] = (L2-L1)/h\n",
    "\n",
    "# for df/dc\n",
    "L1 = -a**3 + sin(3*b) - 1.0/c + b**2.5 - a**0.5\n",
    "L2 = -a**3 + sin(3*b) - 1.0/(c+h) + b**2.5 - a**0.5\n",
    "numerical_grad[2] = (L2-L1)/h\n",
    "\n",
    "\n",
    "for dim in range(3):\n",
    "  ok = 'OK' if abs(numerical_grad[dim] - ans[dim]) < 1e-5 else 'WRONG!'\n",
    "  print(f\"{ok} for dim {dim}: expected {ans[dim]}, yours returns {numerical_grad[dim]}\")\n"
   ]
  },
  {
   "cell_type": "code",
   "execution_count": 38,
   "id": "9bfe1ecd-91c8-406e-895b-625b0171a8f5",
   "metadata": {},
   "outputs": [
    {
     "name": "stdout",
     "output_type": "stream",
     "text": [
      "OK for dim 0: expected -12.353553390593273, yours returns -12.353553391353245\n",
      "OK for dim 1: expected 10.25699027111255, yours returns 10.25699027401572\n",
      "OK for dim 2: expected 0.0625, yours returns 0.06250000028629188\n"
     ]
    }
   ],
   "source": [
    "# there is an alternative formula that provides a much better numerical \n",
    "# approximation to the derivative of a function.\n",
    "# learn about it here: https://en.wikipedia.org/wiki/Symmetric_derivative\n",
    "# implement it. confirm that for the same step size h this version gives a\n",
    "# better approximation.\n",
    "\n",
    "# -----------\n",
    "numerical_grad2 = [0, 0, 0] # TODO\n",
    "# -----------\n",
    "\n",
    "\n",
    "h = 0.000001\n",
    "a = 2\n",
    "b = 3\n",
    "c = 4\n",
    "\n",
    "# for df/da\n",
    "L1 = -(a+h)**3 + sin(3*b) - 1.0/c + b**2.5 - (a+h)**0.5\n",
    "L2 = -(a-h)**3 + sin(3*b) - 1.0/c + b**2.5 - (a-h)**0.5\n",
    "\n",
    "numerical_grad2[0] = (L1-L2)/(2*h)\n",
    "\n",
    "# for df/db\n",
    "L1 = -a**3 + sin(3*(b+h)) - 1.0/c + (b+h)**2.5 - a**0.5\n",
    "L2 = -a**3 + sin(3*(b-h)) - 1.0/c + (b-h)**2.5 - a**0.5\n",
    "\n",
    "numerical_grad2[1] = (L1-L2)/(2*h)\n",
    "\n",
    "# for df/dc\n",
    "L1 = -a**3 + sin(3*b) - 1.0/(c+h) + b**2.5 - a**0.5\n",
    "L2 = -a**3 + sin(3*b) - 1.0/(c-h) + b**2.5 - a**0.5\n",
    "\n",
    "numerical_grad2[2] = (L1-L2)/(2*h)\n",
    "\n",
    "\n",
    "for dim in range(3):\n",
    "  ok = 'OK' if abs(numerical_grad2[dim] - ans[dim]) < 1e-5 else 'WRONG!'\n",
    "  print(f\"{ok} for dim {dim}: expected {ans[dim]}, yours returns {numerical_grad2[dim]}\")\n"
   ]
  },
  {
   "cell_type": "code",
   "execution_count": null,
   "id": "2f4562ca-9253-471c-9dcf-bb3789b244f8",
   "metadata": {},
   "outputs": [],
   "source": []
  }
 ],
 "metadata": {
  "kernelspec": {
   "display_name": "Python 3 (ipykernel)",
   "language": "python",
   "name": "python3"
  },
  "language_info": {
   "codemirror_mode": {
    "name": "ipython",
    "version": 3
   },
   "file_extension": ".py",
   "mimetype": "text/x-python",
   "name": "python",
   "nbconvert_exporter": "python",
   "pygments_lexer": "ipython3",
   "version": "3.11.7"
  }
 },
 "nbformat": 4,
 "nbformat_minor": 5
}
