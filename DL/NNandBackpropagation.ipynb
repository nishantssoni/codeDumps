{
 "cells": [
  {
   "cell_type": "code",
   "execution_count": 47,
   "id": "15691e3f-94d3-499e-bf61-6f1bf70e173a",
   "metadata": {},
   "outputs": [],
   "source": [
    "import math\n",
    "import numpy as np\n",
    "import matplotlib.pyplot as plt\n",
    "%matplotlib inline"
   ]
  },
  {
   "cell_type": "code",
   "execution_count": 1,
   "id": "eedab6d0-45d2-401a-a539-c817f5cb48b1",
   "metadata": {
    "scrolled": true
   },
   "outputs": [],
   "source": [
    "# start\n",
    "class Value:\n",
    "    def __init__(self, data, _children=(), _op='', label=''):\n",
    "        self.data = data\n",
    "        self.grad = 0.0\n",
    "        self._prev = set(_children)\n",
    "        self._op = _op\n",
    "        self._label = label\n",
    "        \n",
    "    def __repr__(self):\n",
    "        return f\"value(data={self.data})\"\n",
    "    \n",
    "    def __add__(self, other): #called when we add two value objects\n",
    "        out = Value(self.data + other.data, (self, other),'+')\n",
    "        # self._op = '+'\n",
    "        # other._op = '+'\n",
    "        return out\n",
    "    \n",
    "    def __mul__(self, other): #called when we add two value objects\n",
    "        out = Value(self.data * other.data, (self, other),'*')\n",
    "        # self._op = '*'\n",
    "        # other._op = '*'\n",
    "        return out\n",
    "\n",
    "def trace(root):\n",
    "    nodes, edges = set(), set()\n",
    "    def build(v):\n",
    "        if v not in nodes:\n",
    "            nodes.add(v)\n",
    "            for child in v._prev:\n",
    "                edges.add((child, v))\n",
    "                build(child)\n",
    "    build(root)\n",
    "    return nodes, edges\n",
    "\n"
   ]
  },
  {
   "cell_type": "code",
   "execution_count": 2,
   "id": "57c81b08-69fd-4f97-9de7-9dc7178684ba",
   "metadata": {},
   "outputs": [],
   "source": [
    "a = Value(2.0, label = 'a')\n",
    "b = Value(-3.0, label = 'b' )\n",
    "c = Value(10.0, label = 'c')\n",
    "\n",
    "e = a * b; e._label = 'e'\n",
    "d = e + c; d._label = 'd'\n",
    "f = Value(-2.0, label = 'f')\n",
    "l = d * f; l._label = 'l'\n",
    "# print(L)\n",
    "nodes, edges = trace(l)\n",
    "# print(\"nodes :\",nodes)\n",
    "# print(\"edges :\",edges)"
   ]
  },
  {
   "cell_type": "code",
   "execution_count": 3,
   "id": "4d74d56f-76b1-40b3-ac02-04af4c6b95fd",
   "metadata": {},
   "outputs": [],
   "source": [
    "def print_tree(node,edges, level=0):\n",
    "    prefix = node._label\n",
    "    print(\" \" * (level * 15) + prefix + f\" {('('+node._op +')') if node._op else '()'} ---> \" + f\"(D:{node.data:.4f})  (G:{node.grad:.4f})\",end='\\n\\n')\n",
    "    state = 0\n",
    "    for n1, n2 in edges:\n",
    "        if n2 == node:\n",
    "            if not state:\n",
    "                state += 1\n",
    "                print_tree(n1,edges, level+1)\n",
    "            else:\n",
    "                print_tree(n1,edges, level+1)"
   ]
  },
  {
   "cell_type": "code",
   "execution_count": 4,
   "id": "584187ec-07d5-4f16-9d9e-9dcd62208d4f",
   "metadata": {},
   "outputs": [
    {
     "name": "stdout",
     "output_type": "stream",
     "text": [
      "l (*) ---> (D:-8.0000)  (G:1.0000)\n",
      "\n",
      "               f () ---> (D:-2.0000)  (G:0.0000)\n",
      "\n",
      "               d (+) ---> (D:4.0000)  (G:0.0000)\n",
      "\n",
      "                              e (*) ---> (D:-6.0000)  (G:0.0000)\n",
      "\n",
      "                                             b () ---> (D:-3.0000)  (G:0.0000)\n",
      "\n",
      "                                             a () ---> (D:2.0000)  (G:0.0000)\n",
      "\n",
      "                              c () ---> (D:10.0000)  (G:0.0000)\n",
      "\n"
     ]
    }
   ],
   "source": [
    "l.grad = 1.0\n",
    "print_tree(l,edges, 0)"
   ]
  },
  {
   "cell_type": "code",
   "execution_count": null,
   "id": "e179a605-742d-4350-9f57-22d87b904a66",
   "metadata": {},
   "outputs": [],
   "source": []
  },
  {
   "cell_type": "code",
   "execution_count": null,
   "id": "eb50fe57-6113-419b-8667-76d5fb33fa3d",
   "metadata": {},
   "outputs": [],
   "source": []
  },
  {
   "cell_type": "code",
   "execution_count": null,
   "id": "130f6897-9c98-4d12-a277-01c28aaebb70",
   "metadata": {},
   "outputs": [],
   "source": []
  },
  {
   "cell_type": "code",
   "execution_count": null,
   "id": "9da963c0-3e56-4e2a-b054-591fe8f508ab",
   "metadata": {},
   "outputs": [],
   "source": []
  },
  {
   "cell_type": "code",
   "execution_count": null,
   "id": "920b9e48-7b02-493f-a33a-9f478125802b",
   "metadata": {},
   "outputs": [],
   "source": []
  },
  {
   "cell_type": "code",
   "execution_count": null,
   "id": "0ae16fad-1f41-4409-a067-b867d5674d5f",
   "metadata": {},
   "outputs": [],
   "source": [
    "# def f(x):\n",
    "#     return 3*x**2 - 4*x + 5\n",
    "# f(3.0)\n",
    "# xs = np.arange(-5,5,0.25)\n",
    "# ys = f(xs)\n",
    "# plt.figure(figsize=(5/2,3/2))\n",
    "# plt.plot(xs, ys)\n",
    "\n",
    "# h=0.00000001\n",
    "# x = 2/3\n",
    "# (f(x+h) - f(x))/h\n",
    "\n",
    "\n",
    "# a = 2.0\n",
    "# b = -3.0\n",
    "# c = 10.0\n",
    "# d = a*b + c\n",
    "# print(d)\n",
    "\n",
    "# h = 0.0001"
   ]
  }
 ],
 "metadata": {
  "kernelspec": {
   "display_name": "Python 3 (ipykernel)",
   "language": "python",
   "name": "python3"
  },
  "language_info": {
   "codemirror_mode": {
    "name": "ipython",
    "version": 3
   },
   "file_extension": ".py",
   "mimetype": "text/x-python",
   "name": "python",
   "nbconvert_exporter": "python",
   "pygments_lexer": "ipython3",
   "version": "3.11.7"
  }
 },
 "nbformat": 4,
 "nbformat_minor": 5
}
