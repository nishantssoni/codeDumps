{
 "cells": [
  {
   "cell_type": "code",
   "execution_count": 1,
   "id": "15691e3f-94d3-499e-bf61-6f1bf70e173a",
   "metadata": {},
   "outputs": [],
   "source": [
    "import math\n",
    "import numpy as np\n",
    "import matplotlib.pyplot as plt\n",
    "%matplotlib inline"
   ]
  },
  {
   "cell_type": "code",
   "execution_count": 2,
   "id": "eedab6d0-45d2-401a-a539-c817f5cb48b1",
   "metadata": {
    "scrolled": true
   },
   "outputs": [],
   "source": [
    "# start\n",
    "class Value:\n",
    "    def __init__(self, data, _children=(), _op='', label=''):\n",
    "        self.data = data\n",
    "        self.grad = 0.0\n",
    "        self._prev = set(_children)\n",
    "        self._op = _op\n",
    "        self._label = label\n",
    "        \n",
    "    def __repr__(self):\n",
    "        return f\"value(data={self.data})\"\n",
    "    \n",
    "    def __add__(self, other): #called when we add two value objects\n",
    "        out = Value(self.data + other.data, (self, other),'+')\n",
    "        # self._op = '+'\n",
    "        # other._op = '+'\n",
    "        return out\n",
    "    \n",
    "    def __mul__(self, other): #called when we add two value objects\n",
    "        out = Value(self.data * other.data, (self, other),'*')\n",
    "        # self._op = '*'\n",
    "        # other._op = '*'\n",
    "        return out\n",
    "\n",
    "def trace(root):\n",
    "    nodes, edges = set(), set()\n",
    "    def build(v):\n",
    "        if v not in nodes:\n",
    "            nodes.add(v)\n",
    "            for child in v._prev:\n",
    "                edges.add((child, v))\n",
    "                build(child)\n",
    "    build(root)\n",
    "    return nodes, edges\n",
    "\n"
   ]
  },
  {
   "cell_type": "code",
   "execution_count": 3,
   "id": "57c81b08-69fd-4f97-9de7-9dc7178684ba",
   "metadata": {},
   "outputs": [],
   "source": [
    "a = Value(2.0, label = 'a')\n",
    "b = Value(-3.0, label = 'b' )\n",
    "c = Value(10.0, label = 'c')\n",
    "\n",
    "e = a * b; e._label = 'e'\n",
    "d = e + c; d._label = 'd'\n",
    "f = Value(-2.0, label = 'f')\n",
    "l = d * f; l._label = 'l'\n",
    "# print(L)\n",
    "nodes, edges = trace(l)\n",
    "# print(\"nodes :\",nodes)\n",
    "# print(\"edges :\",edges)"
   ]
  },
  {
   "cell_type": "code",
   "execution_count": 14,
   "id": "4d74d56f-76b1-40b3-ac02-04af4c6b95fd",
   "metadata": {},
   "outputs": [],
   "source": [
    "def print_tree(node, level=0, edges=None,):\n",
    "    if edges is None:\n",
    "        nodes, edges = trace(node)\n",
    "    prefix = node._label\n",
    "    print(\" \" * (level * 15) + prefix + f\" {('('+node._op +')') if node._op else '()'} ---> \" + f\"(D:{node.data:.4f})  (G:{node.grad:.4f})\",end='\\n\\n')\n",
    "    state = 0\n",
    "    for n1, n2 in edges:\n",
    "        if n2 == node:\n",
    "            if not state:\n",
    "                state += 1\n",
    "                print_tree(n1, level+1,edges)\n",
    "            else:\n",
    "                print_tree(n1, level+1,edges)"
   ]
  },
  {
   "cell_type": "code",
   "execution_count": 15,
   "id": "584187ec-07d5-4f16-9d9e-9dcd62208d4f",
   "metadata": {},
   "outputs": [
    {
     "name": "stdout",
     "output_type": "stream",
     "text": [
      "l (*) ---> (D:-8.0000)  (G:1.0000)\n",
      "\n"
     ]
    },
    {
     "ename": "TypeError",
     "evalue": "'int' object is not iterable",
     "output_type": "error",
     "traceback": [
      "\u001b[1;31m---------------------------------------------------------------------------\u001b[0m",
      "\u001b[1;31mTypeError\u001b[0m                                 Traceback (most recent call last)",
      "Cell \u001b[1;32mIn[15], line 2\u001b[0m\n\u001b[0;32m      1\u001b[0m l\u001b[38;5;241m.\u001b[39mgrad \u001b[38;5;241m=\u001b[39m \u001b[38;5;241m1.0\u001b[39m\n\u001b[1;32m----> 2\u001b[0m print_tree(l, \u001b[38;5;241m0\u001b[39m)\n",
      "Cell \u001b[1;32mIn[14], line 7\u001b[0m, in \u001b[0;36mprint_tree\u001b[1;34m(node, edges, level)\u001b[0m\n\u001b[0;32m      5\u001b[0m \u001b[38;5;28mprint\u001b[39m(\u001b[38;5;124m\"\u001b[39m\u001b[38;5;124m \u001b[39m\u001b[38;5;124m\"\u001b[39m \u001b[38;5;241m*\u001b[39m (level \u001b[38;5;241m*\u001b[39m \u001b[38;5;241m15\u001b[39m) \u001b[38;5;241m+\u001b[39m prefix \u001b[38;5;241m+\u001b[39m \u001b[38;5;124mf\u001b[39m\u001b[38;5;124m\"\u001b[39m\u001b[38;5;124m \u001b[39m\u001b[38;5;132;01m{\u001b[39;00m(\u001b[38;5;124m'\u001b[39m\u001b[38;5;124m(\u001b[39m\u001b[38;5;124m'\u001b[39m\u001b[38;5;241m+\u001b[39mnode\u001b[38;5;241m.\u001b[39m_op\u001b[38;5;250m \u001b[39m\u001b[38;5;241m+\u001b[39m\u001b[38;5;124m'\u001b[39m\u001b[38;5;124m)\u001b[39m\u001b[38;5;124m'\u001b[39m)\u001b[38;5;250m \u001b[39m\u001b[38;5;28;01mif\u001b[39;00m\u001b[38;5;250m \u001b[39mnode\u001b[38;5;241m.\u001b[39m_op\u001b[38;5;250m \u001b[39m\u001b[38;5;28;01melse\u001b[39;00m\u001b[38;5;250m \u001b[39m\u001b[38;5;124m'\u001b[39m\u001b[38;5;124m()\u001b[39m\u001b[38;5;124m'\u001b[39m\u001b[38;5;132;01m}\u001b[39;00m\u001b[38;5;124m ---> \u001b[39m\u001b[38;5;124m\"\u001b[39m \u001b[38;5;241m+\u001b[39m \u001b[38;5;124mf\u001b[39m\u001b[38;5;124m\"\u001b[39m\u001b[38;5;124m(D:\u001b[39m\u001b[38;5;132;01m{\u001b[39;00mnode\u001b[38;5;241m.\u001b[39mdata\u001b[38;5;132;01m:\u001b[39;00m\u001b[38;5;124m.4f\u001b[39m\u001b[38;5;132;01m}\u001b[39;00m\u001b[38;5;124m)  (G:\u001b[39m\u001b[38;5;132;01m{\u001b[39;00mnode\u001b[38;5;241m.\u001b[39mgrad\u001b[38;5;132;01m:\u001b[39;00m\u001b[38;5;124m.4f\u001b[39m\u001b[38;5;132;01m}\u001b[39;00m\u001b[38;5;124m)\u001b[39m\u001b[38;5;124m\"\u001b[39m,end\u001b[38;5;241m=\u001b[39m\u001b[38;5;124m'\u001b[39m\u001b[38;5;130;01m\\n\u001b[39;00m\u001b[38;5;130;01m\\n\u001b[39;00m\u001b[38;5;124m'\u001b[39m)\n\u001b[0;32m      6\u001b[0m state \u001b[38;5;241m=\u001b[39m \u001b[38;5;241m0\u001b[39m\n\u001b[1;32m----> 7\u001b[0m \u001b[38;5;28;01mfor\u001b[39;00m n1, n2 \u001b[38;5;129;01min\u001b[39;00m edges:\n\u001b[0;32m      8\u001b[0m     \u001b[38;5;28;01mif\u001b[39;00m n2 \u001b[38;5;241m==\u001b[39m node:\n\u001b[0;32m      9\u001b[0m         \u001b[38;5;28;01mif\u001b[39;00m \u001b[38;5;129;01mnot\u001b[39;00m state:\n",
      "\u001b[1;31mTypeError\u001b[0m: 'int' object is not iterable"
     ]
    }
   ],
   "source": [
    "l.grad = 1.0\n",
    "print_tree(l, 0)"
   ]
  },
  {
   "cell_type": "code",
   "execution_count": 13,
   "id": "e179a605-742d-4350-9f57-22d87b904a66",
   "metadata": {},
   "outputs": [
    {
     "name": "stdout",
     "output_type": "stream",
     "text": [
      "n (+) ---> (D:0.7000)  (G:0.0000)\n",
      "\n",
      "               x1w1x2w2 (+) ---> (D:-6.0000)  (G:0.0000)\n",
      "\n",
      "                              x1*w1 (*) ---> (D:-6.0000)  (G:0.0000)\n",
      "\n",
      "                                             w1 () ---> (D:-3.0000)  (G:0.0000)\n",
      "\n",
      "                                             x1 () ---> (D:2.0000)  (G:0.0000)\n",
      "\n",
      "                              x2*w2 (*) ---> (D:0.0000)  (G:0.0000)\n",
      "\n",
      "                                             x2 () ---> (D:0.0000)  (G:0.0000)\n",
      "\n",
      "                                             w2 () ---> (D:1.0000)  (G:0.0000)\n",
      "\n",
      "               b () ---> (D:6.7000)  (G:0.0000)\n",
      "\n"
     ]
    }
   ],
   "source": [
    "#inputs x1, x2\n",
    "x1 = Value(2.0, label='x1')\n",
    "x2 = Value(0.0, label='x2')\n",
    "# weights\n",
    "w1 = Value(-3.0, label='w1')\n",
    "w2 = Value(1.0, label='w2')\n",
    "# bias\n",
    "b = Value(6.7, label='b')\n",
    "\n",
    "# x1w1 + x2w2 + b\n",
    "x1w1 = x1*w1; x1w1._label = 'x1*w1'\n",
    "x2w2 = x2*w2; x2w2._label = 'x2*w2'\n",
    "x1w1x2w2 = x1w1 + x2w2 ; x1w1x2w2._label = 'x1w1x2w2'\n",
    "n = x1w1x2w2 + b; n._label = 'n'\n",
    "\n",
    "nodes, edges = trace(n)\n",
    "print_tree(n,edges, 0)"
   ]
  },
  {
   "cell_type": "code",
   "execution_count": null,
   "id": "eb50fe57-6113-419b-8667-76d5fb33fa3d",
   "metadata": {},
   "outputs": [],
   "source": []
  },
  {
   "cell_type": "code",
   "execution_count": null,
   "id": "130f6897-9c98-4d12-a277-01c28aaebb70",
   "metadata": {},
   "outputs": [],
   "source": []
  },
  {
   "cell_type": "code",
   "execution_count": null,
   "id": "9da963c0-3e56-4e2a-b054-591fe8f508ab",
   "metadata": {},
   "outputs": [],
   "source": []
  },
  {
   "cell_type": "code",
   "execution_count": null,
   "id": "920b9e48-7b02-493f-a33a-9f478125802b",
   "metadata": {},
   "outputs": [],
   "source": []
  },
  {
   "cell_type": "code",
   "execution_count": null,
   "id": "0ae16fad-1f41-4409-a067-b867d5674d5f",
   "metadata": {},
   "outputs": [],
   "source": [
    "# def f(x):\n",
    "#     return 3*x**2 - 4*x + 5\n",
    "# f(3.0)\n",
    "# xs = np.arange(-5,5,0.25)\n",
    "# ys = f(xs)\n",
    "# plt.figure(figsize=(5/2,3/2))\n",
    "# plt.plot(xs, ys)\n",
    "\n",
    "# h=0.00000001\n",
    "# x = 2/3\n",
    "# (f(x+h) - f(x))/h\n",
    "\n",
    "\n",
    "# a = 2.0\n",
    "# b = -3.0\n",
    "# c = 10.0\n",
    "# d = a*b + c\n",
    "# print(d)\n",
    "\n",
    "# h = 0.0001"
   ]
  }
 ],
 "metadata": {
  "kernelspec": {
   "display_name": "Python 3 (ipykernel)",
   "language": "python",
   "name": "python3"
  },
  "language_info": {
   "codemirror_mode": {
    "name": "ipython",
    "version": 3
   },
   "file_extension": ".py",
   "mimetype": "text/x-python",
   "name": "python",
   "nbconvert_exporter": "python",
   "pygments_lexer": "ipython3",
   "version": "3.11.7"
  }
 },
 "nbformat": 4,
 "nbformat_minor": 5
}
