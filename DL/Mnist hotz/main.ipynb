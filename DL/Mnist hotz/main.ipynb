{
 "cells": [
  {
   "cell_type": "code",
   "execution_count": 1,
   "id": "9f8f927e-4d9b-4339-8d6e-7e248dbcd1bf",
   "metadata": {},
   "outputs": [],
   "source": [
    "%matplotlib inline\n",
    "import numpy as np\n",
    "from tqdm import trange\n",
    "import requests\n",
    "import gzip\n",
    "import pickle\n",
    "import torch\n",
    "import torch.nn as nn\n",
    "import torch.nn.functional as F"
   ]
  },
  {
   "cell_type": "code",
   "execution_count": 2,
   "id": "6f9157c5-e691-4b1e-adae-d8f9f7ce83ba",
   "metadata": {},
   "outputs": [
    {
     "name": "stdout",
     "output_type": "stream",
     "text": [
      "Training set shape: (60000, 784), Labels shape: (60000,)\n",
      "Test set shape: (10000, 784), Labels shape: (10000,)\n"
     ]
    }
   ],
   "source": [
    "# Raw file URL for the dataset\n",
    "url = \"https://github.com/mnielsen/neural-networks-and-deep-learning/raw/master/data/mnist.pkl.gz\"\n",
    "filename = url.split(\"/\")[-1]\n",
    "\n",
    "# Download the dataset\n",
    "response = requests.get(url)\n",
    "\n",
    "# Save the file locally\n",
    "with open(filename, \"wb\") as f:\n",
    "    f.write(response.content)\n",
    "\n",
    "# Open and extract the .pkl.gz file\n",
    "with gzip.open(filename, 'rb') as f:\n",
    "    train_set, valid_set, test_set = pickle.load(f, encoding='latin1')\n",
    "\n",
    "# The dataset is now split into training, validation, and testing sets\n",
    "X_train, Y_train = train_set\n",
    "X_val, Y_val = valid_set\n",
    "X_test, Y_test = test_set\n",
    "\n",
    "# Combine training and validation datasets\n",
    "X_train = np.concatenate((X_train, X_val))  # Combine images\n",
    "Y_train = np.concatenate((Y_train, Y_val))  # Combine labels\n",
    "\n",
    "# Check the shapes of the datasets\n",
    "print(f\"Training set shape: {X_train.shape}, Labels shape: {Y_train.shape}\")\n",
    "print(f\"Test set shape: {X_test.shape}, Labels shape: {Y_test.shape}\")"
   ]
  },
  {
   "cell_type": "code",
   "execution_count": null,
   "id": "070321df-3fe7-4263-99b0-e20c218d29d5",
   "metadata": {},
   "outputs": [],
   "source": []
  },
  {
   "cell_type": "code",
   "execution_count": null,
   "id": "8f239040-2863-4db8-9c94-9bf2919ebbca",
   "metadata": {},
   "outputs": [],
   "source": []
  }
 ],
 "metadata": {
  "kernelspec": {
   "display_name": "Python 3 (ipykernel)",
   "language": "python",
   "name": "python3"
  },
  "language_info": {
   "codemirror_mode": {
    "name": "ipython",
    "version": 3
   },
   "file_extension": ".py",
   "mimetype": "text/x-python",
   "name": "python",
   "nbconvert_exporter": "python",
   "pygments_lexer": "ipython3",
   "version": "3.11.7"
  }
 },
 "nbformat": 4,
 "nbformat_minor": 5
}
